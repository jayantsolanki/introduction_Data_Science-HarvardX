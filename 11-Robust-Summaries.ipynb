{
 "cells": [
  {
   "cell_type": "code",
   "execution_count": 1,
   "metadata": {},
   "outputs": [],
   "source": [
    "# Boxplots can be used to show outliers\n",
    "# you can also gauze outliers by checking if they have normal distribution and their SD is normal"
   ]
  },
  {
   "cell_type": "code",
   "execution_count": 3,
   "metadata": {},
   "outputs": [],
   "source": [
    "# The median, defined as the value for which half the values are smaller and \n",
    "# the other half are bigger, is robust to such outliers"
   ]
  },
  {
   "cell_type": "code",
   "execution_count": 4,
   "metadata": {},
   "outputs": [],
   "source": [
    "# Inter quartile range (Q1-Q3) is robust to outliers, much like median"
   ]
  },
  {
   "cell_type": "code",
   "execution_count": 5,
   "metadata": {},
   "outputs": [],
   "source": [
    "# We can do some math to see that for normally distributed data, the IQR / 1.349 approximates \n",
    "# the standard deviation of the data had an outlier not been present."
   ]
  },
  {
   "cell_type": "markdown",
   "metadata": {},
   "source": [
    "# Tukey’s definition of an outlier\n",
    "* The top whisker ends at the 75th percentile plus 1.5  ×   IQR. Similarly the bottom whisker ends at the 25th percentile minus 1.5 ×   IQR\n",
    "* If we define the first and third quartiles as Q1 and Q3, respectively, then an outlier is anything outside the range:\n",
    "\n",
    "`[Q1−1.5×(Q3−Q1),Q3+1.5×(Q3−Q1)]`"
   ]
  },
  {
   "cell_type": "code",
   "execution_count": 10,
   "metadata": {},
   "outputs": [
    {
     "name": "stderr",
     "output_type": "stream",
     "text": [
      "-- \u001b[1mAttaching packages\u001b[22m --------------------------------------- tidyverse 1.2.1 --\n",
      "\u001b[32mv\u001b[39m \u001b[34mggplot2\u001b[39m 3.2.1     \u001b[32mv\u001b[39m \u001b[34mpurrr  \u001b[39m 0.3.3\n",
      "\u001b[32mv\u001b[39m \u001b[34mtibble \u001b[39m 3.0.1     \u001b[32mv\u001b[39m \u001b[34mdplyr  \u001b[39m 0.8.3\n",
      "\u001b[32mv\u001b[39m \u001b[34mtidyr  \u001b[39m 1.0.0     \u001b[32mv\u001b[39m \u001b[34mstringr\u001b[39m 1.4.0\n",
      "\u001b[32mv\u001b[39m \u001b[34mreadr  \u001b[39m 1.3.1     \u001b[32mv\u001b[39m \u001b[34mforcats\u001b[39m 0.4.0\n",
      "Warning message:\n",
      "\"package 'tibble' was built under R version 3.6.3\"Warning message:\n",
      "\"package 'stringr' was built under R version 3.6.3\"-- \u001b[1mConflicts\u001b[22m ------------------------------------------ tidyverse_conflicts() --\n",
      "\u001b[31mx\u001b[39m \u001b[34mdplyr\u001b[39m::\u001b[32mfilter()\u001b[39m masks \u001b[34mstats\u001b[39m::filter()\n",
      "\u001b[31mx\u001b[39m \u001b[34mdplyr\u001b[39m::\u001b[32mlag()\u001b[39m    masks \u001b[34mstats\u001b[39m::lag()\n"
     ]
    }
   ],
   "source": [
    "library(tidyverse)"
   ]
  },
  {
   "cell_type": "code",
   "execution_count": 7,
   "metadata": {},
   "outputs": [
    {
     "name": "stderr",
     "output_type": "stream",
     "text": [
      "Warning message:\n",
      "\"package 'dslabs' was built under R version 3.6.3\""
     ]
    }
   ],
   "source": [
    "# case studies\n",
    "library(dslabs)\n",
    "data(\"reported_heights\")"
   ]
  },
  {
   "cell_type": "code",
   "execution_count": 11,
   "metadata": {},
   "outputs": [
    {
     "name": "stderr",
     "output_type": "stream",
     "text": [
      "Warning message:\n",
      "\"NAs introduced by coercion\""
     ]
    }
   ],
   "source": [
    "reported_heights <- reported_heights %>%\n",
    "  mutate(original_heights = height, height = as.numeric(height))"
   ]
  },
  {
   "cell_type": "code",
   "execution_count": 14,
   "metadata": {},
   "outputs": [
    {
     "data": {
      "text/html": [
       "<table>\n",
       "<caption>A data.frame: 6 × 4</caption>\n",
       "<thead>\n",
       "\t<tr><th scope=col>time_stamp</th><th scope=col>sex</th><th scope=col>height</th><th scope=col>original_heights</th></tr>\n",
       "\t<tr><th scope=col>&lt;chr&gt;</th><th scope=col>&lt;chr&gt;</th><th scope=col>&lt;dbl&gt;</th><th scope=col>&lt;chr&gt;</th></tr>\n",
       "</thead>\n",
       "<tbody>\n",
       "\t<tr><td>2014-09-02 15:16:28</td><td>Male  </td><td>NA</td><td>5' 4\"</td></tr>\n",
       "\t<tr><td>2014-09-02 15:16:37</td><td>Female</td><td>NA</td><td>165cm</td></tr>\n",
       "\t<tr><td>2014-09-02 15:16:52</td><td>Male  </td><td>NA</td><td>5'7  </td></tr>\n",
       "\t<tr><td>2014-09-02 15:16:56</td><td><span style=white-space:pre-wrap>Male  </span></td><td>NA</td><td>&gt;9000</td></tr>\n",
       "\t<tr><td>2014-09-02 15:16:56</td><td>Male  </td><td>NA</td><td>5'7\" </td></tr>\n",
       "\t<tr><td>2014-09-02 15:17:09</td><td>Female</td><td>NA</td><td>5'3\" </td></tr>\n",
       "</tbody>\n",
       "</table>\n"
      ],
      "text/latex": [
       "A data.frame: 6 × 4\n",
       "\\begin{tabular}{r|llll}\n",
       " time\\_stamp & sex & height & original\\_heights\\\\\n",
       " <chr> & <chr> & <dbl> & <chr>\\\\\n",
       "\\hline\n",
       "\t 2014-09-02 15:16:28 & Male   & NA & 5' 4\"\\\\\n",
       "\t 2014-09-02 15:16:37 & Female & NA & 165cm\\\\\n",
       "\t 2014-09-02 15:16:52 & Male   & NA & 5'7  \\\\\n",
       "\t 2014-09-02 15:16:56 & Male   & NA & >9000\\\\\n",
       "\t 2014-09-02 15:16:56 & Male   & NA & 5'7\" \\\\\n",
       "\t 2014-09-02 15:17:09 & Female & NA & 5'3\" \\\\\n",
       "\\end{tabular}\n"
      ],
      "text/markdown": [
       "\n",
       "A data.frame: 6 × 4\n",
       "\n",
       "| time_stamp &lt;chr&gt; | sex &lt;chr&gt; | height &lt;dbl&gt; | original_heights &lt;chr&gt; |\n",
       "|---|---|---|---|\n",
       "| 2014-09-02 15:16:28 | Male   | NA | 5' 4\" |\n",
       "| 2014-09-02 15:16:37 | Female | NA | 165cm |\n",
       "| 2014-09-02 15:16:52 | Male   | NA | 5'7   |\n",
       "| 2014-09-02 15:16:56 | Male   | NA | &gt;9000 |\n",
       "| 2014-09-02 15:16:56 | Male   | NA | 5'7\"  |\n",
       "| 2014-09-02 15:17:09 | Female | NA | 5'3\"  |\n",
       "\n"
      ],
      "text/plain": [
       "  time_stamp          sex    height original_heights\n",
       "1 2014-09-02 15:16:28 Male   NA     5' 4\"           \n",
       "2 2014-09-02 15:16:37 Female NA     165cm           \n",
       "3 2014-09-02 15:16:52 Male   NA     5'7             \n",
       "4 2014-09-02 15:16:56 Male   NA     >9000           \n",
       "5 2014-09-02 15:16:56 Male   NA     5'7\"            \n",
       "6 2014-09-02 15:17:09 Female NA     5'3\"            "
      ]
     },
     "metadata": {},
     "output_type": "display_data"
    }
   ],
   "source": [
    "    # wrong data entries\n",
    "reported_heights %>% filter(is.na(height)) %>%  head()\n",
    "#filter\n",
    "reported_heights <- filter(reported_heights, !is.na(height))"
   ]
  },
  {
   "cell_type": "code",
   "execution_count": 15,
   "metadata": {},
   "outputs": [
    {
     "data": {
      "text/html": [
       "<table>\n",
       "<caption>A tibble: 2 × 5</caption>\n",
       "<thead>\n",
       "\t<tr><th scope=col>sex</th><th scope=col>average</th><th scope=col>sd</th><th scope=col>median</th><th scope=col>MAD</th></tr>\n",
       "\t<tr><th scope=col>&lt;chr&gt;</th><th scope=col>&lt;dbl&gt;</th><th scope=col>&lt;dbl&gt;</th><th scope=col>&lt;dbl&gt;</th><th scope=col>&lt;dbl&gt;</th></tr>\n",
       "</thead>\n",
       "<tbody>\n",
       "\t<tr><td>Female</td><td> 63.40779</td><td> 27.93076</td><td>64.2</td><td>4.046164</td></tr>\n",
       "\t<tr><td>Male  </td><td>103.37705</td><td>529.86240</td><td>70.0</td><td>4.447800</td></tr>\n",
       "</tbody>\n",
       "</table>\n"
      ],
      "text/latex": [
       "A tibble: 2 × 5\n",
       "\\begin{tabular}{r|lllll}\n",
       " sex & average & sd & median & MAD\\\\\n",
       " <chr> & <dbl> & <dbl> & <dbl> & <dbl>\\\\\n",
       "\\hline\n",
       "\t Female &  63.40779 &  27.93076 & 64.2 & 4.046164\\\\\n",
       "\t Male   & 103.37705 & 529.86240 & 70.0 & 4.447800\\\\\n",
       "\\end{tabular}\n"
      ],
      "text/markdown": [
       "\n",
       "A tibble: 2 × 5\n",
       "\n",
       "| sex &lt;chr&gt; | average &lt;dbl&gt; | sd &lt;dbl&gt; | median &lt;dbl&gt; | MAD &lt;dbl&gt; |\n",
       "|---|---|---|---|---|\n",
       "| Female |  63.40779 |  27.93076 | 64.2 | 4.046164 |\n",
       "| Male   | 103.37705 | 529.86240 | 70.0 | 4.447800 |\n",
       "\n"
      ],
      "text/plain": [
       "  sex    average   sd        median MAD     \n",
       "1 Female  63.40779  27.93076 64.2   4.046164\n",
       "2 Male   103.37705 529.86240 70.0   4.447800"
      ]
     },
     "metadata": {},
     "output_type": "display_data"
    }
   ],
   "source": [
    "reported_heights %>% \n",
    "  group_by(sex) %>%\n",
    "  summarize(average = mean(height), sd = sd(height),\n",
    "            median = median(height), MAD = mad(height))\n",
    "# shows that average and sd differes in terms of median and mad, so outlier must be there"
   ]
  },
  {
   "cell_type": "code",
   "execution_count": 22,
   "metadata": {},
   "outputs": [
    {
     "data": {
      "image/png": "[encoded data removed]",
      "text/plain": [
       "plot without title"
      ]
     },
     "metadata": {},
     "output_type": "display_data"
    }
   ],
   "source": [
    "# lets heck that using boxplot\n",
    "reported_heights %>% ggplot(aes(y = height, x = sex)) + geom_boxplot()"
   ]
  },
  {
   "cell_type": "code",
   "execution_count": 23,
   "metadata": {},
   "outputs": [
    {
     "data": {
      "text/html": [
       "<table>\n",
       "<caption>A data.frame: 11 × 4</caption>\n",
       "<thead>\n",
       "\t<tr><th scope=col>time_stamp</th><th scope=col>sex</th><th scope=col>height</th><th scope=col>original_heights</th></tr>\n",
       "\t<tr><th scope=col>&lt;chr&gt;</th><th scope=col>&lt;chr&gt;</th><th scope=col>&lt;dbl&gt;</th><th scope=col>&lt;chr&gt;</th></tr>\n",
       "</thead>\n",
       "<tbody>\n",
       "\t<tr><td>2014-09-03 23:55:37</td><td>Male  </td><td>11111</td><td>11111</td></tr>\n",
       "\t<tr><td>2016-04-10 22:45:49</td><td>Male  </td><td>10000</td><td>10000</td></tr>\n",
       "\t<tr><td>2015-08-10 03:10:01</td><td>Male  </td><td>  684</td><td>684  </td></tr>\n",
       "\t<tr><td>2015-02-27 18:05:06</td><td>Male  </td><td>  612</td><td>612  </td></tr>\n",
       "\t<tr><td>2014-09-02 15:16:41</td><td>Male  </td><td>  511</td><td>511  </td></tr>\n",
       "\t<tr><td>2014-09-07 20:53:43</td><td>Male  </td><td>  300</td><td>300  </td></tr>\n",
       "\t<tr><td>2014-11-28 12:18:40</td><td>Male  </td><td>  214</td><td>214  </td></tr>\n",
       "\t<tr><td>2017-04-03 16:16:57</td><td>Male  </td><td>  210</td><td>210  </td></tr>\n",
       "\t<tr><td>2015-11-24 10:39:45</td><td>Male  </td><td>  192</td><td>192  </td></tr>\n",
       "\t<tr><td>2014-12-26 10:00:12</td><td>Male  </td><td>  190</td><td>190  </td></tr>\n",
       "\t<tr><td>2016-11-06 10:21:02</td><td>Female</td><td>  190</td><td>190  </td></tr>\n",
       "</tbody>\n",
       "</table>\n"
      ],
      "text/latex": [
       "A data.frame: 11 × 4\n",
       "\\begin{tabular}{r|llll}\n",
       " time\\_stamp & sex & height & original\\_heights\\\\\n",
       " <chr> & <chr> & <dbl> & <chr>\\\\\n",
       "\\hline\n",
       "\t 2014-09-03 23:55:37 & Male   & 11111 & 11111\\\\\n",
       "\t 2016-04-10 22:45:49 & Male   & 10000 & 10000\\\\\n",
       "\t 2015-08-10 03:10:01 & Male   &   684 & 684  \\\\\n",
       "\t 2015-02-27 18:05:06 & Male   &   612 & 612  \\\\\n",
       "\t 2014-09-02 15:16:41 & Male   &   511 & 511  \\\\\n",
       "\t 2014-09-07 20:53:43 & Male   &   300 & 300  \\\\\n",
       "\t 2014-11-28 12:18:40 & Male   &   214 & 214  \\\\\n",
       "\t 2017-04-03 16:16:57 & Male   &   210 & 210  \\\\\n",
       "\t 2015-11-24 10:39:45 & Male   &   192 & 192  \\\\\n",
       "\t 2014-12-26 10:00:12 & Male   &   190 & 190  \\\\\n",
       "\t 2016-11-06 10:21:02 & Female &   190 & 190  \\\\\n",
       "\\end{tabular}\n"
      ],
      "text/markdown": [
       "\n",
       "A data.frame: 11 × 4\n",
       "\n",
       "| time_stamp &lt;chr&gt; | sex &lt;chr&gt; | height &lt;dbl&gt; | original_heights &lt;chr&gt; |\n",
       "|---|---|---|---|\n",
       "| 2014-09-03 23:55:37 | Male   | 11111 | 11111 |\n",
       "| 2016-04-10 22:45:49 | Male   | 10000 | 10000 |\n",
       "| 2015-08-10 03:10:01 | Male   |   684 | 684   |\n",
       "| 2015-02-27 18:05:06 | Male   |   612 | 612   |\n",
       "| 2014-09-02 15:16:41 | Male   |   511 | 511   |\n",
       "| 2014-09-07 20:53:43 | Male   |   300 | 300   |\n",
       "| 2014-11-28 12:18:40 | Male   |   214 | 214   |\n",
       "| 2017-04-03 16:16:57 | Male   |   210 | 210   |\n",
       "| 2015-11-24 10:39:45 | Male   |   192 | 192   |\n",
       "| 2014-12-26 10:00:12 | Male   |   190 | 190   |\n",
       "| 2016-11-06 10:21:02 | Female |   190 | 190   |\n",
       "\n"
      ],
      "text/plain": [
       "   time_stamp          sex    height original_heights\n",
       "1  2014-09-03 23:55:37 Male   11111  11111           \n",
       "2  2016-04-10 22:45:49 Male   10000  10000           \n",
       "3  2015-08-10 03:10:01 Male     684  684             \n",
       "4  2015-02-27 18:05:06 Male     612  612             \n",
       "5  2014-09-02 15:16:41 Male     511  511             \n",
       "6  2014-09-07 20:53:43 Male     300  300             \n",
       "7  2014-11-28 12:18:40 Male     214  214             \n",
       "8  2017-04-03 16:16:57 Male     210  210             \n",
       "9  2015-11-24 10:39:45 Male     192  192             \n",
       "10 2014-12-26 10:00:12 Male     190  190             \n",
       "11 2016-11-06 10:21:02 Female   190  190             "
      ]
     },
     "metadata": {},
     "output_type": "display_data"
    }
   ],
   "source": [
    "# checking extreme values\n",
    "reported_heights %>% arrange(desc(height)) %>% top_n(10, height)"
   ]
  },
  {
   "cell_type": "code",
   "execution_count": 28,
   "metadata": {},
   "outputs": [
    {
     "data": {
      "text/html": [
       "<ol class=list-inline>\n",
       "\t<li>'6'</li>\n",
       "\t<li>'5.3'</li>\n",
       "\t<li>'511'</li>\n",
       "\t<li>'6'</li>\n",
       "\t<li>'2'</li>\n",
       "\t<li>'5.25'</li>\n",
       "\t<li>'5.5'</li>\n",
       "\t<li>'11111'</li>\n",
       "\t<li>'6'</li>\n",
       "\t<li>'6.5'</li>\n",
       "</ol>\n"
      ],
      "text/latex": [
       "\\begin{enumerate*}\n",
       "\\item '6'\n",
       "\\item '5.3'\n",
       "\\item '511'\n",
       "\\item '6'\n",
       "\\item '2'\n",
       "\\item '5.25'\n",
       "\\item '5.5'\n",
       "\\item '11111'\n",
       "\\item '6'\n",
       "\\item '6.5'\n",
       "\\end{enumerate*}\n"
      ],
      "text/markdown": [
       "1. '6'\n",
       "2. '5.3'\n",
       "3. '511'\n",
       "4. '6'\n",
       "5. '2'\n",
       "6. '5.25'\n",
       "7. '5.5'\n",
       "8. '11111'\n",
       "9. '6'\n",
       "10. '6.5'\n",
       "\n",
       "\n"
      ],
      "text/plain": [
       " [1] \"6\"     \"5.3\"   \"511\"   \"6\"     \"2\"     \"5.25\"  \"5.5\"   \"11111\" \"6\"    \n",
       "[10] \"6.5\"  "
      ]
     },
     "metadata": {},
     "output_type": "display_data"
    }
   ],
   "source": [
    "# this is the most important things, finding out the outliers\n",
    "whisker <- 3*IQR(reported_heights$height) # thats sound about right or 1.5\n",
    "max_height <- quantile(reported_heights$height, .75) + whisker\n",
    "min_height <- quantile(reported_heights$height, .25) - whisker\n",
    "reported_heights %>% \n",
    "  filter(!between(height, min_height, max_height)) %>% \n",
    "  select(original_heights) %>%\n",
    "  head(n=10) %>% pull(original_heights)"
   ]
  },
  {
   "cell_type": "code",
   "execution_count": null,
   "metadata": {},
   "outputs": [],
   "source": []
  }
 ],
 "metadata": {
  "kernelspec": {
   "display_name": "R",
   "language": "R",
   "name": "ir"
  },
  "language_info": {
   "codemirror_mode": "r",
   "file_extension": ".r",
   "mimetype": "text/x-r-source",
   "name": "R",
   "pygments_lexer": "r",
   "version": "3.6.1"
  }
 },
 "nbformat": 4,
 "nbformat_minor": 2
}
