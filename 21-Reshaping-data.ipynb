{
 "cells": [
  {
   "cell_type": "markdown",
   "metadata": {},
   "source": [
    "# Introduction to Data Wrangling"
   ]
  },
  {
   "cell_type": "code",
   "execution_count": 1,
   "metadata": {},
   "outputs": [
    {
     "name": "stderr",
     "output_type": "stream",
     "text": [
      "-- \u001b[1mAttaching packages\u001b[22m --------------------------------------- tidyverse 1.2.1 --\n",
      "\u001b[32mv\u001b[39m \u001b[34mggplot2\u001b[39m 3.2.1     \u001b[32mv\u001b[39m \u001b[34mpurrr  \u001b[39m 0.3.3\n",
      "\u001b[32mv\u001b[39m \u001b[34mtibble \u001b[39m 3.0.1     \u001b[32mv\u001b[39m \u001b[34mdplyr  \u001b[39m 0.8.3\n",
      "\u001b[32mv\u001b[39m \u001b[34mtidyr  \u001b[39m 1.0.0     \u001b[32mv\u001b[39m \u001b[34mstringr\u001b[39m 1.4.0\n",
      "\u001b[32mv\u001b[39m \u001b[34mreadr  \u001b[39m 1.3.1     \u001b[32mv\u001b[39m \u001b[34mforcats\u001b[39m 0.4.0\n",
      "Warning message:\n",
      "\"package 'tibble' was built under R version 3.6.3\"Warning message:\n",
      "\"package 'stringr' was built under R version 3.6.3\"-- \u001b[1mConflicts\u001b[22m ------------------------------------------ tidyverse_conflicts() --\n",
      "\u001b[31mx\u001b[39m \u001b[34mdplyr\u001b[39m::\u001b[32mfilter()\u001b[39m masks \u001b[34mstats\u001b[39m::filter()\n",
      "\u001b[31mx\u001b[39m \u001b[34mdplyr\u001b[39m::\u001b[32mlag()\u001b[39m    masks \u001b[34mstats\u001b[39m::lag()\n",
      "Warning message:\n",
      "\"package 'dslabs' was built under R version 3.6.3\"Parsed with column specification:\n",
      "cols(\n",
      "  .default = col_double(),\n",
      "  country = \u001b[31mcol_character()\u001b[39m\n",
      ")\n",
      "See spec(...) for full column specifications.\n"
     ]
    }
   ],
   "source": [
    "library(tidyverse) \n",
    "library(dslabs)\n",
    "path <- system.file(\"extdata\", package=\"dslabs\")\n",
    "filename <- file.path(path, \"fertility-two-countries-example.csv\")\n",
    "wide_data <- read_csv(filename)"
   ]
  },
  {
   "cell_type": "code",
   "execution_count": 2,
   "metadata": {},
   "outputs": [
    {
     "data": {
      "text/html": [
       "<table>\n",
       "<caption>A spec_tbl_df: 2 × 57</caption>\n",
       "<thead>\n",
       "\t<tr><th scope=col>country</th><th scope=col>1960</th><th scope=col>1961</th><th scope=col>1962</th><th scope=col>1963</th><th scope=col>1964</th><th scope=col>1965</th><th scope=col>1966</th><th scope=col>1967</th><th scope=col>1968</th><th scope=col>...</th><th scope=col>2006</th><th scope=col>2007</th><th scope=col>2008</th><th scope=col>2009</th><th scope=col>2010</th><th scope=col>2011</th><th scope=col>2012</th><th scope=col>2013</th><th scope=col>2014</th><th scope=col>2015</th></tr>\n",
       "\t<tr><th scope=col>&lt;chr&gt;</th><th scope=col>&lt;dbl&gt;</th><th scope=col>&lt;dbl&gt;</th><th scope=col>&lt;dbl&gt;</th><th scope=col>&lt;dbl&gt;</th><th scope=col>&lt;dbl&gt;</th><th scope=col>&lt;dbl&gt;</th><th scope=col>&lt;dbl&gt;</th><th scope=col>&lt;dbl&gt;</th><th scope=col>&lt;dbl&gt;</th><th scope=col>...</th><th scope=col>&lt;dbl&gt;</th><th scope=col>&lt;dbl&gt;</th><th scope=col>&lt;dbl&gt;</th><th scope=col>&lt;dbl&gt;</th><th scope=col>&lt;dbl&gt;</th><th scope=col>&lt;dbl&gt;</th><th scope=col>&lt;dbl&gt;</th><th scope=col>&lt;dbl&gt;</th><th scope=col>&lt;dbl&gt;</th><th scope=col>&lt;dbl&gt;</th></tr>\n",
       "</thead>\n",
       "<tbody>\n",
       "\t<tr><td>Germany    </td><td>2.41</td><td>2.44</td><td>2.47</td><td>2.49</td><td>2.49</td><td>2.48</td><td>2.44</td><td>2.37</td><td>2.28</td><td>...</td><td>1.36</td><td>1.36</td><td>1.37</td><td>1.38</td><td>1.39</td><td>1.40</td><td>1.41</td><td>1.42</td><td>1.43</td><td>1.44</td></tr>\n",
       "\t<tr><td>South Korea</td><td>6.16</td><td>5.99</td><td>5.79</td><td>5.57</td><td>5.36</td><td>5.16</td><td>4.99</td><td>4.85</td><td>4.73</td><td>...</td><td>1.20</td><td>1.21</td><td>1.23</td><td>1.25</td><td>1.27</td><td>1.29</td><td>1.30</td><td>1.32</td><td>1.34</td><td>1.36</td></tr>\n",
       "</tbody>\n",
       "</table>\n"
      ],
      "text/latex": [
       "A spec_tbl_df: 2 × 57\n",
       "\\begin{tabular}{r|lllllllllllllllllllllllllllllllllllllllllllllllllllllllll}\n",
       " country & 1960 & 1961 & 1962 & 1963 & 1964 & 1965 & 1966 & 1967 & 1968 & 1969 & 1970 & 1971 & 1972 & 1973 & 1974 & 1975 & 1976 & 1977 & 1978 & 1979 & 1980 & 1981 & 1982 & 1983 & 1984 & 1985 & 1986 & 1987 & 1988 & 1989 & 1990 & 1991 & 1992 & 1993 & 1994 & 1995 & 1996 & 1997 & 1998 & 1999 & 2000 & 2001 & 2002 & 2003 & 2004 & 2005 & 2006 & 2007 & 2008 & 2009 & 2010 & 2011 & 2012 & 2013 & 2014 & 2015\\\\\n",
       " <chr> & <dbl> & <dbl> & <dbl> & <dbl> & <dbl> & <dbl> & <dbl> & <dbl> & <dbl> & <dbl> & <dbl> & <dbl> & <dbl> & <dbl> & <dbl> & <dbl> & <dbl> & <dbl> & <dbl> & <dbl> & <dbl> & <dbl> & <dbl> & <dbl> & <dbl> & <dbl> & <dbl> & <dbl> & <dbl> & <dbl> & <dbl> & <dbl> & <dbl> & <dbl> & <dbl> & <dbl> & <dbl> & <dbl> & <dbl> & <dbl> & <dbl> & <dbl> & <dbl> & <dbl> & <dbl> & <dbl> & <dbl> & <dbl> & <dbl> & <dbl> & <dbl> & <dbl> & <dbl> & <dbl> & <dbl> & <dbl>\\\\\n",
       "\\hline\n",
       "\t Germany     & 2.41 & 2.44 & 2.47 & 2.49 & 2.49 & 2.48 & 2.44 & 2.37 & 2.28 & 2.17 & 2.04 & 1.92 & 1.80 & 1.70 & 1.62 & 1.56 & 1.53 & 1.50 & 1.49 & 1.48 & 1.47 & 1.47 & 1.46 & 1.46 & 1.46 & 1.45 & 1.44 & 1.43 & 1.41 & 1.38 & 1.36 & 1.34 & 1.32 & 1.31 & 1.31 & 1.31 & 1.32 & 1.33 & 1.34 & 1.35 & 1.35 & 1.35 & 1.35 & 1.35 & 1.35 & 1.35 & 1.36 & 1.36 & 1.37 & 1.38 & 1.39 & 1.40 & 1.41 & 1.42 & 1.43 & 1.44\\\\\n",
       "\t South Korea & 6.16 & 5.99 & 5.79 & 5.57 & 5.36 & 5.16 & 4.99 & 4.85 & 4.73 & 4.62 & 4.53 & 4.41 & 4.27 & 4.09 & 3.87 & 3.62 & 3.36 & 3.11 & 2.88 & 2.69 & 2.52 & 2.38 & 2.24 & 2.11 & 1.98 & 1.86 & 1.75 & 1.67 & 1.63 & 1.61 & 1.61 & 1.63 & 1.65 & 1.66 & 1.65 & 1.63 & 1.59 & 1.54 & 1.48 & 1.41 & 1.35 & 1.30 & 1.25 & 1.22 & 1.20 & 1.20 & 1.20 & 1.21 & 1.23 & 1.25 & 1.27 & 1.29 & 1.30 & 1.32 & 1.34 & 1.36\\\\\n",
       "\\end{tabular}\n"
      ],
      "text/markdown": [
       "\n",
       "A spec_tbl_df: 2 × 57\n",
       "\n",
       "| country &lt;chr&gt; | 1960 &lt;dbl&gt; | 1961 &lt;dbl&gt; | 1962 &lt;dbl&gt; | 1963 &lt;dbl&gt; | 1964 &lt;dbl&gt; | 1965 &lt;dbl&gt; | 1966 &lt;dbl&gt; | 1967 &lt;dbl&gt; | 1968 &lt;dbl&gt; | ... ... | 2006 &lt;dbl&gt; | 2007 &lt;dbl&gt; | 2008 &lt;dbl&gt; | 2009 &lt;dbl&gt; | 2010 &lt;dbl&gt; | 2011 &lt;dbl&gt; | 2012 &lt;dbl&gt; | 2013 &lt;dbl&gt; | 2014 &lt;dbl&gt; | 2015 &lt;dbl&gt; |\n",
       "|---|---|---|---|---|---|---|---|---|---|---|---|---|---|---|---|---|---|---|---|---|\n",
       "| Germany     | 2.41 | 2.44 | 2.47 | 2.49 | 2.49 | 2.48 | 2.44 | 2.37 | 2.28 | ... | 1.36 | 1.36 | 1.37 | 1.38 | 1.39 | 1.40 | 1.41 | 1.42 | 1.43 | 1.44 |\n",
       "| South Korea | 6.16 | 5.99 | 5.79 | 5.57 | 5.36 | 5.16 | 4.99 | 4.85 | 4.73 | ... | 1.20 | 1.21 | 1.23 | 1.25 | 1.27 | 1.29 | 1.30 | 1.32 | 1.34 | 1.36 |\n",
       "\n"
      ],
      "text/plain": [
       "  country     1960 1961 1962 1963 1964 1965 1966 1967 1968 ... 2006 2007 2008\n",
       "1 Germany     2.41 2.44 2.47 2.49 2.49 2.48 2.44 2.37 2.28 ... 1.36 1.36 1.37\n",
       "2 South Korea 6.16 5.99 5.79 5.57 5.36 5.16 4.99 4.85 4.73 ... 1.20 1.21 1.23\n",
       "  2009 2010 2011 2012 2013 2014 2015\n",
       "1 1.38 1.39 1.40 1.41 1.42 1.43 1.44\n",
       "2 1.25 1.27 1.29 1.30 1.32 1.34 1.36"
      ]
     },
     "metadata": {},
     "output_type": "display_data"
    }
   ],
   "source": []
  },
  {
   "cell_type": "code",
   "execution_count": 3,
   "metadata": {},
   "outputs": [],
   "source": [
    "#gather\n",
    "new_tidy_data <- gather(wide_data, key = 'year', value='fertility', `1960`:`2015`)"
   ]
  },
  {
   "cell_type": "code",
   "execution_count": 4,
   "metadata": {},
   "outputs": [
    {
     "data": {
      "text/html": [
       "<table>\n",
       "<caption>A tibble: 6 × 3</caption>\n",
       "<thead>\n",
       "\t<tr><th scope=col>country</th><th scope=col>year</th><th scope=col>fertility</th></tr>\n",
       "\t<tr><th scope=col>&lt;chr&gt;</th><th scope=col>&lt;chr&gt;</th><th scope=col>&lt;dbl&gt;</th></tr>\n",
       "</thead>\n",
       "<tbody>\n",
       "\t<tr><td>Germany    </td><td>1960</td><td>2.41</td></tr>\n",
       "\t<tr><td>South Korea</td><td>1960</td><td>6.16</td></tr>\n",
       "\t<tr><td>Germany    </td><td>1961</td><td>2.44</td></tr>\n",
       "\t<tr><td>South Korea</td><td>1961</td><td>5.99</td></tr>\n",
       "\t<tr><td>Germany    </td><td>1962</td><td>2.47</td></tr>\n",
       "\t<tr><td>South Korea</td><td>1962</td><td>5.79</td></tr>\n",
       "</tbody>\n",
       "</table>\n"
      ],
      "text/latex": [
       "A tibble: 6 × 3\n",
       "\\begin{tabular}{r|lll}\n",
       " country & year & fertility\\\\\n",
       " <chr> & <chr> & <dbl>\\\\\n",
       "\\hline\n",
       "\t Germany     & 1960 & 2.41\\\\\n",
       "\t South Korea & 1960 & 6.16\\\\\n",
       "\t Germany     & 1961 & 2.44\\\\\n",
       "\t South Korea & 1961 & 5.99\\\\\n",
       "\t Germany     & 1962 & 2.47\\\\\n",
       "\t South Korea & 1962 & 5.79\\\\\n",
       "\\end{tabular}\n"
      ],
      "text/markdown": [
       "\n",
       "A tibble: 6 × 3\n",
       "\n",
       "| country &lt;chr&gt; | year &lt;chr&gt; | fertility &lt;dbl&gt; |\n",
       "|---|---|---|\n",
       "| Germany     | 1960 | 2.41 |\n",
       "| South Korea | 1960 | 6.16 |\n",
       "| Germany     | 1961 | 2.44 |\n",
       "| South Korea | 1961 | 5.99 |\n",
       "| Germany     | 1962 | 2.47 |\n",
       "| South Korea | 1962 | 5.79 |\n",
       "\n"
      ],
      "text/plain": [
       "  country     year fertility\n",
       "1 Germany     1960 2.41     \n",
       "2 South Korea 1960 6.16     \n",
       "3 Germany     1961 2.44     \n",
       "4 South Korea 1961 5.99     \n",
       "5 Germany     1962 2.47     \n",
       "6 South Korea 1962 5.79     "
      ]
     },
     "metadata": {},
     "output_type": "display_data"
    }
   ],
   "source": [
    "new_tidy_data %>% head"
   ]
  },
  {
   "cell_type": "code",
   "execution_count": 5,
   "metadata": {},
   "outputs": [],
   "source": [
    "data(\"gapminder\")\n",
    "tidy_data <- gapminder %>% \n",
    "  filter(country %in% c(\"South Korea\", \"Germany\") & !is.na(fertility)) %>%\n",
    "  select(country, year, fertility)"
   ]
  },
  {
   "cell_type": "code",
   "execution_count": 6,
   "metadata": {},
   "outputs": [
    {
     "data": {
      "text/html": [
       "'integer'"
      ],
      "text/latex": [
       "'integer'"
      ],
      "text/markdown": [
       "'integer'"
      ],
      "text/plain": [
       "[1] \"integer\""
      ]
     },
     "metadata": {},
     "output_type": "display_data"
    },
    {
     "data": {
      "text/html": [
       "'character'"
      ],
      "text/latex": [
       "'character'"
      ],
      "text/markdown": [
       "'character'"
      ],
      "text/plain": [
       "[1] \"character\""
      ]
     },
     "metadata": {},
     "output_type": "display_data"
    }
   ],
   "source": [
    "class(tidy_data$year)\n",
    "#> [1] \"integer\"\n",
    "class(new_tidy_data$year)\n",
    "#> [1] \"character\""
   ]
  },
  {
   "cell_type": "code",
   "execution_count": 7,
   "metadata": {},
   "outputs": [
    {
     "data": {
      "text/html": [
       "'integer'"
      ],
      "text/latex": [
       "'integer'"
      ],
      "text/markdown": [
       "'integer'"
      ],
      "text/plain": [
       "[1] \"integer\""
      ]
     },
     "metadata": {},
     "output_type": "display_data"
    }
   ],
   "source": [
    "# The gather function assumes that column names are characters. \n",
    "# so we need to convert it\n",
    "new_tidy_data <- wide_data %>%\n",
    "  gather(year, fertility, -country, convert = TRUE)\n",
    "class(new_tidy_data$year)"
   ]
  },
  {
   "cell_type": "code",
   "execution_count": 9,
   "metadata": {},
   "outputs": [
    {
     "data": {
      "image/png": "[encoded data removed]",
      "text/plain": [
       "plot without title"
      ]
     },
     "metadata": {},
     "output_type": "display_data"
    }
   ],
   "source": [
    "# now data is tidy\n",
    "new_tidy_data %>% ggplot(aes(year, fertility, color = country)) + \n",
    "  geom_point()"
   ]
  },
  {
   "cell_type": "code",
   "execution_count": 11,
   "metadata": {},
   "outputs": [
    {
     "data": {
      "text/html": [
       "<table>\n",
       "<caption>A tibble: 6 × 3</caption>\n",
       "<thead>\n",
       "\t<tr><th scope=col>country</th><th scope=col>year</th><th scope=col>fertility</th></tr>\n",
       "\t<tr><th scope=col>&lt;chr&gt;</th><th scope=col>&lt;int&gt;</th><th scope=col>&lt;dbl&gt;</th></tr>\n",
       "</thead>\n",
       "<tbody>\n",
       "\t<tr><td>Germany    </td><td>1960</td><td>2.41</td></tr>\n",
       "\t<tr><td>South Korea</td><td>1960</td><td>6.16</td></tr>\n",
       "\t<tr><td>Germany    </td><td>1961</td><td>2.44</td></tr>\n",
       "\t<tr><td>South Korea</td><td>1961</td><td>5.99</td></tr>\n",
       "\t<tr><td>Germany    </td><td>1962</td><td>2.47</td></tr>\n",
       "\t<tr><td>South Korea</td><td>1962</td><td>5.79</td></tr>\n",
       "</tbody>\n",
       "</table>\n"
      ],
      "text/latex": [
       "A tibble: 6 × 3\n",
       "\\begin{tabular}{r|lll}\n",
       " country & year & fertility\\\\\n",
       " <chr> & <int> & <dbl>\\\\\n",
       "\\hline\n",
       "\t Germany     & 1960 & 2.41\\\\\n",
       "\t South Korea & 1960 & 6.16\\\\\n",
       "\t Germany     & 1961 & 2.44\\\\\n",
       "\t South Korea & 1961 & 5.99\\\\\n",
       "\t Germany     & 1962 & 2.47\\\\\n",
       "\t South Korea & 1962 & 5.79\\\\\n",
       "\\end{tabular}\n"
      ],
      "text/markdown": [
       "\n",
       "A tibble: 6 × 3\n",
       "\n",
       "| country &lt;chr&gt; | year &lt;int&gt; | fertility &lt;dbl&gt; |\n",
       "|---|---|---|\n",
       "| Germany     | 1960 | 2.41 |\n",
       "| South Korea | 1960 | 6.16 |\n",
       "| Germany     | 1961 | 2.44 |\n",
       "| South Korea | 1961 | 5.99 |\n",
       "| Germany     | 1962 | 2.47 |\n",
       "| South Korea | 1962 | 5.79 |\n",
       "\n"
      ],
      "text/plain": [
       "  country     year fertility\n",
       "1 Germany     1960 2.41     \n",
       "2 South Korea 1960 6.16     \n",
       "3 Germany     1961 2.44     \n",
       "4 South Korea 1961 5.99     \n",
       "5 Germany     1962 2.47     \n",
       "6 South Korea 1962 5.79     "
      ]
     },
     "metadata": {},
     "output_type": "display_data"
    }
   ],
   "source": [
    "# spread\n",
    "new_tidy_data %>% head"
   ]
  },
  {
   "cell_type": "code",
   "execution_count": 13,
   "metadata": {},
   "outputs": [],
   "source": [
    "new_wide_data <- new_tidy_data %>% spread(key = year, value=fertility)"
   ]
  },
  {
   "cell_type": "code",
   "execution_count": 14,
   "metadata": {},
   "outputs": [
    {
     "data": {
      "text/html": [
       "<table>\n",
       "<caption>A tibble: 2 × 57</caption>\n",
       "<thead>\n",
       "\t<tr><th scope=col>country</th><th scope=col>1960</th><th scope=col>1961</th><th scope=col>1962</th><th scope=col>1963</th><th scope=col>1964</th><th scope=col>1965</th><th scope=col>1966</th><th scope=col>1967</th><th scope=col>1968</th><th scope=col>...</th><th scope=col>2006</th><th scope=col>2007</th><th scope=col>2008</th><th scope=col>2009</th><th scope=col>2010</th><th scope=col>2011</th><th scope=col>2012</th><th scope=col>2013</th><th scope=col>2014</th><th scope=col>2015</th></tr>\n",
       "\t<tr><th scope=col>&lt;chr&gt;</th><th scope=col>&lt;dbl&gt;</th><th scope=col>&lt;dbl&gt;</th><th scope=col>&lt;dbl&gt;</th><th scope=col>&lt;dbl&gt;</th><th scope=col>&lt;dbl&gt;</th><th scope=col>&lt;dbl&gt;</th><th scope=col>&lt;dbl&gt;</th><th scope=col>&lt;dbl&gt;</th><th scope=col>&lt;dbl&gt;</th><th scope=col>...</th><th scope=col>&lt;dbl&gt;</th><th scope=col>&lt;dbl&gt;</th><th scope=col>&lt;dbl&gt;</th><th scope=col>&lt;dbl&gt;</th><th scope=col>&lt;dbl&gt;</th><th scope=col>&lt;dbl&gt;</th><th scope=col>&lt;dbl&gt;</th><th scope=col>&lt;dbl&gt;</th><th scope=col>&lt;dbl&gt;</th><th scope=col>&lt;dbl&gt;</th></tr>\n",
       "</thead>\n",
       "<tbody>\n",
       "\t<tr><td>Germany    </td><td>2.41</td><td>2.44</td><td>2.47</td><td>2.49</td><td>2.49</td><td>2.48</td><td>2.44</td><td>2.37</td><td>2.28</td><td>...</td><td>1.36</td><td>1.36</td><td>1.37</td><td>1.38</td><td>1.39</td><td>1.40</td><td>1.41</td><td>1.42</td><td>1.43</td><td>1.44</td></tr>\n",
       "\t<tr><td>South Korea</td><td>6.16</td><td>5.99</td><td>5.79</td><td>5.57</td><td>5.36</td><td>5.16</td><td>4.99</td><td>4.85</td><td>4.73</td><td>...</td><td>1.20</td><td>1.21</td><td>1.23</td><td>1.25</td><td>1.27</td><td>1.29</td><td>1.30</td><td>1.32</td><td>1.34</td><td>1.36</td></tr>\n",
       "</tbody>\n",
       "</table>\n"
      ],
      "text/latex": [
       "A tibble: 2 × 57\n",
       "\\begin{tabular}{r|lllllllllllllllllllllllllllllllllllllllllllllllllllllllll}\n",
       " country & 1960 & 1961 & 1962 & 1963 & 1964 & 1965 & 1966 & 1967 & 1968 & 1969 & 1970 & 1971 & 1972 & 1973 & 1974 & 1975 & 1976 & 1977 & 1978 & 1979 & 1980 & 1981 & 1982 & 1983 & 1984 & 1985 & 1986 & 1987 & 1988 & 1989 & 1990 & 1991 & 1992 & 1993 & 1994 & 1995 & 1996 & 1997 & 1998 & 1999 & 2000 & 2001 & 2002 & 2003 & 2004 & 2005 & 2006 & 2007 & 2008 & 2009 & 2010 & 2011 & 2012 & 2013 & 2014 & 2015\\\\\n",
       " <chr> & <dbl> & <dbl> & <dbl> & <dbl> & <dbl> & <dbl> & <dbl> & <dbl> & <dbl> & <dbl> & <dbl> & <dbl> & <dbl> & <dbl> & <dbl> & <dbl> & <dbl> & <dbl> & <dbl> & <dbl> & <dbl> & <dbl> & <dbl> & <dbl> & <dbl> & <dbl> & <dbl> & <dbl> & <dbl> & <dbl> & <dbl> & <dbl> & <dbl> & <dbl> & <dbl> & <dbl> & <dbl> & <dbl> & <dbl> & <dbl> & <dbl> & <dbl> & <dbl> & <dbl> & <dbl> & <dbl> & <dbl> & <dbl> & <dbl> & <dbl> & <dbl> & <dbl> & <dbl> & <dbl> & <dbl> & <dbl>\\\\\n",
       "\\hline\n",
       "\t Germany     & 2.41 & 2.44 & 2.47 & 2.49 & 2.49 & 2.48 & 2.44 & 2.37 & 2.28 & 2.17 & 2.04 & 1.92 & 1.80 & 1.70 & 1.62 & 1.56 & 1.53 & 1.50 & 1.49 & 1.48 & 1.47 & 1.47 & 1.46 & 1.46 & 1.46 & 1.45 & 1.44 & 1.43 & 1.41 & 1.38 & 1.36 & 1.34 & 1.32 & 1.31 & 1.31 & 1.31 & 1.32 & 1.33 & 1.34 & 1.35 & 1.35 & 1.35 & 1.35 & 1.35 & 1.35 & 1.35 & 1.36 & 1.36 & 1.37 & 1.38 & 1.39 & 1.40 & 1.41 & 1.42 & 1.43 & 1.44\\\\\n",
       "\t South Korea & 6.16 & 5.99 & 5.79 & 5.57 & 5.36 & 5.16 & 4.99 & 4.85 & 4.73 & 4.62 & 4.53 & 4.41 & 4.27 & 4.09 & 3.87 & 3.62 & 3.36 & 3.11 & 2.88 & 2.69 & 2.52 & 2.38 & 2.24 & 2.11 & 1.98 & 1.86 & 1.75 & 1.67 & 1.63 & 1.61 & 1.61 & 1.63 & 1.65 & 1.66 & 1.65 & 1.63 & 1.59 & 1.54 & 1.48 & 1.41 & 1.35 & 1.30 & 1.25 & 1.22 & 1.20 & 1.20 & 1.20 & 1.21 & 1.23 & 1.25 & 1.27 & 1.29 & 1.30 & 1.32 & 1.34 & 1.36\\\\\n",
       "\\end{tabular}\n"
      ],
      "text/markdown": [
       "\n",
       "A tibble: 2 × 57\n",
       "\n",
       "| country &lt;chr&gt; | 1960 &lt;dbl&gt; | 1961 &lt;dbl&gt; | 1962 &lt;dbl&gt; | 1963 &lt;dbl&gt; | 1964 &lt;dbl&gt; | 1965 &lt;dbl&gt; | 1966 &lt;dbl&gt; | 1967 &lt;dbl&gt; | 1968 &lt;dbl&gt; | ... ... | 2006 &lt;dbl&gt; | 2007 &lt;dbl&gt; | 2008 &lt;dbl&gt; | 2009 &lt;dbl&gt; | 2010 &lt;dbl&gt; | 2011 &lt;dbl&gt; | 2012 &lt;dbl&gt; | 2013 &lt;dbl&gt; | 2014 &lt;dbl&gt; | 2015 &lt;dbl&gt; |\n",
       "|---|---|---|---|---|---|---|---|---|---|---|---|---|---|---|---|---|---|---|---|---|\n",
       "| Germany     | 2.41 | 2.44 | 2.47 | 2.49 | 2.49 | 2.48 | 2.44 | 2.37 | 2.28 | ... | 1.36 | 1.36 | 1.37 | 1.38 | 1.39 | 1.40 | 1.41 | 1.42 | 1.43 | 1.44 |\n",
       "| South Korea | 6.16 | 5.99 | 5.79 | 5.57 | 5.36 | 5.16 | 4.99 | 4.85 | 4.73 | ... | 1.20 | 1.21 | 1.23 | 1.25 | 1.27 | 1.29 | 1.30 | 1.32 | 1.34 | 1.36 |\n",
       "\n"
      ],
      "text/plain": [
       "  country     1960 1961 1962 1963 1964 1965 1966 1967 1968 ... 2006 2007 2008\n",
       "1 Germany     2.41 2.44 2.47 2.49 2.49 2.48 2.44 2.37 2.28 ... 1.36 1.36 1.37\n",
       "2 South Korea 6.16 5.99 5.79 5.57 5.36 5.16 4.99 4.85 4.73 ... 1.20 1.21 1.23\n",
       "  2009 2010 2011 2012 2013 2014 2015\n",
       "1 1.38 1.39 1.40 1.41 1.42 1.43 1.44\n",
       "2 1.25 1.27 1.29 1.30 1.32 1.34 1.36"
      ]
     },
     "metadata": {},
     "output_type": "display_data"
    }
   ],
   "source": [
    "new_wide_data %>% head"
   ]
  },
  {
   "cell_type": "code",
   "execution_count": 16,
   "metadata": {},
   "outputs": [],
   "source": [
    "#separate"
   ]
  },
  {
   "cell_type": "code",
   "execution_count": 17,
   "metadata": {},
   "outputs": [
    {
     "name": "stderr",
     "output_type": "stream",
     "text": [
      "Parsed with column specification:\n",
      "cols(\n",
      "  .default = col_double(),\n",
      "  country = \u001b[31mcol_character()\u001b[39m\n",
      ")\n",
      "See spec(...) for full column specifications.\n"
     ]
    },
    {
     "data": {
      "text/html": [
       "<table>\n",
       "<caption>A spec_tbl_df: 2 × 5</caption>\n",
       "<thead>\n",
       "\t<tr><th scope=col>country</th><th scope=col>1960_fertility</th><th scope=col>1960_life_expectancy</th><th scope=col>1961_fertility</th><th scope=col>1961_life_expectancy</th></tr>\n",
       "\t<tr><th scope=col>&lt;chr&gt;</th><th scope=col>&lt;dbl&gt;</th><th scope=col>&lt;dbl&gt;</th><th scope=col>&lt;dbl&gt;</th><th scope=col>&lt;dbl&gt;</th></tr>\n",
       "</thead>\n",
       "<tbody>\n",
       "\t<tr><td>Germany    </td><td>2.41</td><td>69.26</td><td>2.44</td><td>69.85</td></tr>\n",
       "\t<tr><td>South Korea</td><td>6.16</td><td>53.02</td><td>5.99</td><td>53.75</td></tr>\n",
       "</tbody>\n",
       "</table>\n"
      ],
      "text/latex": [
       "A spec_tbl_df: 2 × 5\n",
       "\\begin{tabular}{r|lllll}\n",
       " country & 1960\\_fertility & 1960\\_life\\_expectancy & 1961\\_fertility & 1961\\_life\\_expectancy\\\\\n",
       " <chr> & <dbl> & <dbl> & <dbl> & <dbl>\\\\\n",
       "\\hline\n",
       "\t Germany     & 2.41 & 69.26 & 2.44 & 69.85\\\\\n",
       "\t South Korea & 6.16 & 53.02 & 5.99 & 53.75\\\\\n",
       "\\end{tabular}\n"
      ],
      "text/markdown": [
       "\n",
       "A spec_tbl_df: 2 × 5\n",
       "\n",
       "| country &lt;chr&gt; | 1960_fertility &lt;dbl&gt; | 1960_life_expectancy &lt;dbl&gt; | 1961_fertility &lt;dbl&gt; | 1961_life_expectancy &lt;dbl&gt; |\n",
       "|---|---|---|---|---|\n",
       "| Germany     | 2.41 | 69.26 | 2.44 | 69.85 |\n",
       "| South Korea | 6.16 | 53.02 | 5.99 | 53.75 |\n",
       "\n"
      ],
      "text/plain": [
       "  country     1960_fertility 1960_life_expectancy 1961_fertility\n",
       "1 Germany     2.41           69.26                2.44          \n",
       "2 South Korea 6.16           53.02                5.99          \n",
       "  1961_life_expectancy\n",
       "1 69.85               \n",
       "2 53.75               "
      ]
     },
     "metadata": {},
     "output_type": "display_data"
    }
   ],
   "source": [
    "path <- system.file(\"extdata\", package = \"dslabs\")\n",
    "\n",
    "filename <- \"life-expectancy-and-fertility-two-countries-example.csv\"\n",
    "filename <-  file.path(path, filename)\n",
    "\n",
    "raw_dat <- read_csv(filename)\n",
    "select(raw_dat, 1:5)"
   ]
  },
  {
   "cell_type": "code",
   "execution_count": 35,
   "metadata": {},
   "outputs": [
    {
     "data": {
      "text/html": [
       "<table>\n",
       "<caption>A tibble: 6 × 3</caption>\n",
       "<thead>\n",
       "\t<tr><th scope=col>country</th><th scope=col>key</th><th scope=col>value</th></tr>\n",
       "\t<tr><th scope=col>&lt;chr&gt;</th><th scope=col>&lt;chr&gt;</th><th scope=col>&lt;dbl&gt;</th></tr>\n",
       "</thead>\n",
       "<tbody>\n",
       "\t<tr><td>Germany    </td><td>1960_fertility      </td><td> 2.41</td></tr>\n",
       "\t<tr><td>South Korea</td><td>1960_fertility      </td><td> 6.16</td></tr>\n",
       "\t<tr><td>Germany    </td><td>1960_life_expectancy</td><td>69.26</td></tr>\n",
       "\t<tr><td>South Korea</td><td>1960_life_expectancy</td><td>53.02</td></tr>\n",
       "\t<tr><td>Germany    </td><td>1961_fertility      </td><td> 2.44</td></tr>\n",
       "\t<tr><td>South Korea</td><td>1961_fertility      </td><td> 5.99</td></tr>\n",
       "</tbody>\n",
       "</table>\n"
      ],
      "text/latex": [
       "A tibble: 6 × 3\n",
       "\\begin{tabular}{r|lll}\n",
       " country & key & value\\\\\n",
       " <chr> & <chr> & <dbl>\\\\\n",
       "\\hline\n",
       "\t Germany     & 1960\\_fertility       &  2.41\\\\\n",
       "\t South Korea & 1960\\_fertility       &  6.16\\\\\n",
       "\t Germany     & 1960\\_life\\_expectancy & 69.26\\\\\n",
       "\t South Korea & 1960\\_life\\_expectancy & 53.02\\\\\n",
       "\t Germany     & 1961\\_fertility       &  2.44\\\\\n",
       "\t South Korea & 1961\\_fertility       &  5.99\\\\\n",
       "\\end{tabular}\n"
      ],
      "text/markdown": [
       "\n",
       "A tibble: 6 × 3\n",
       "\n",
       "| country &lt;chr&gt; | key &lt;chr&gt; | value &lt;dbl&gt; |\n",
       "|---|---|---|\n",
       "| Germany     | 1960_fertility       |  2.41 |\n",
       "| South Korea | 1960_fertility       |  6.16 |\n",
       "| Germany     | 1960_life_expectancy | 69.26 |\n",
       "| South Korea | 1960_life_expectancy | 53.02 |\n",
       "| Germany     | 1961_fertility       |  2.44 |\n",
       "| South Korea | 1961_fertility       |  5.99 |\n",
       "\n"
      ],
      "text/plain": [
       "  country     key                  value\n",
       "1 Germany     1960_fertility        2.41\n",
       "2 South Korea 1960_fertility        6.16\n",
       "3 Germany     1960_life_expectancy 69.26\n",
       "4 South Korea 1960_life_expectancy 53.02\n",
       "5 Germany     1961_fertility        2.44\n",
       "6 South Korea 1961_fertility        5.99"
      ]
     },
     "metadata": {},
     "output_type": "display_data"
    }
   ],
   "source": [
    "#above date is in wideformat, \n",
    "dat <- raw_dat %>% gather(key = 'key', value = 'value', -country)\n",
    "head(dat)"
   ]
  },
  {
   "cell_type": "code",
   "execution_count": 36,
   "metadata": {},
   "outputs": [
    {
     "name": "stderr",
     "output_type": "stream",
     "text": [
      "Warning message:\n",
      "\"Expected 2 pieces. Additional pieces discarded in 112 rows [3, 4, 7, 8, 11, 12, 15, 16, 19, 20, 23, 24, 27, 28, 31, 32, 35, 36, 39, 40, ...].\""
     ]
    },
    {
     "data": {
      "text/html": [
       "<table>\n",
       "<caption>A tibble: 6 × 4</caption>\n",
       "<thead>\n",
       "\t<tr><th scope=col>country</th><th scope=col>year</th><th scope=col>variable_name</th><th scope=col>value</th></tr>\n",
       "\t<tr><th scope=col>&lt;chr&gt;</th><th scope=col>&lt;chr&gt;</th><th scope=col>&lt;chr&gt;</th><th scope=col>&lt;dbl&gt;</th></tr>\n",
       "</thead>\n",
       "<tbody>\n",
       "\t<tr><td>Germany    </td><td>1960</td><td>fertility</td><td> 2.41</td></tr>\n",
       "\t<tr><td>South Korea</td><td>1960</td><td>fertility</td><td> 6.16</td></tr>\n",
       "\t<tr><td>Germany    </td><td>1960</td><td>life     </td><td>69.26</td></tr>\n",
       "\t<tr><td>South Korea</td><td>1960</td><td>life     </td><td>53.02</td></tr>\n",
       "\t<tr><td>Germany    </td><td>1961</td><td>fertility</td><td> 2.44</td></tr>\n",
       "\t<tr><td>South Korea</td><td>1961</td><td>fertility</td><td> 5.99</td></tr>\n",
       "</tbody>\n",
       "</table>\n"
      ],
      "text/latex": [
       "A tibble: 6 × 4\n",
       "\\begin{tabular}{r|llll}\n",
       " country & year & variable\\_name & value\\\\\n",
       " <chr> & <chr> & <chr> & <dbl>\\\\\n",
       "\\hline\n",
       "\t Germany     & 1960 & fertility &  2.41\\\\\n",
       "\t South Korea & 1960 & fertility &  6.16\\\\\n",
       "\t Germany     & 1960 & life      & 69.26\\\\\n",
       "\t South Korea & 1960 & life      & 53.02\\\\\n",
       "\t Germany     & 1961 & fertility &  2.44\\\\\n",
       "\t South Korea & 1961 & fertility &  5.99\\\\\n",
       "\\end{tabular}\n"
      ],
      "text/markdown": [
       "\n",
       "A tibble: 6 × 4\n",
       "\n",
       "| country &lt;chr&gt; | year &lt;chr&gt; | variable_name &lt;chr&gt; | value &lt;dbl&gt; |\n",
       "|---|---|---|---|\n",
       "| Germany     | 1960 | fertility |  2.41 |\n",
       "| South Korea | 1960 | fertility |  6.16 |\n",
       "| Germany     | 1960 | life      | 69.26 |\n",
       "| South Korea | 1960 | life      | 53.02 |\n",
       "| Germany     | 1961 | fertility |  2.44 |\n",
       "| South Korea | 1961 | fertility |  5.99 |\n",
       "\n"
      ],
      "text/plain": [
       "  country     year variable_name value\n",
       "1 Germany     1960 fertility      2.41\n",
       "2 South Korea 1960 fertility      6.16\n",
       "3 Germany     1960 life          69.26\n",
       "4 South Korea 1960 life          53.02\n",
       "5 Germany     1961 fertility      2.44\n",
       "6 South Korea 1961 fertility      5.99"
      ]
     },
     "metadata": {},
     "output_type": "display_data"
    }
   ],
   "source": [
    "dat %>% separate(col=key, into = c(\"year\", \"variable_name\"), sep=\"_\") %>% head"
   ]
  },
  {
   "cell_type": "code",
   "execution_count": 37,
   "metadata": {},
   "outputs": [],
   "source": [
    "# the function does separate the values, but we run into a new problem. We receive the warning Too many values at 112 locations: \n",
    "# and that the life_expectancy variable is truncated to life"
   ]
  },
  {
   "cell_type": "code",
   "execution_count": 38,
   "metadata": {},
   "outputs": [],
   "source": [
    "# We could add a third column to catch this and let the separate function know which column to fill in with missing values, NA, \n",
    "# when there is no third value."
   ]
  },
  {
   "cell_type": "code",
   "execution_count": 39,
   "metadata": {},
   "outputs": [
    {
     "data": {
      "text/html": [
       "<table>\n",
       "<caption>A tibble: 6 × 5</caption>\n",
       "<thead>\n",
       "\t<tr><th scope=col>country</th><th scope=col>year</th><th scope=col>first_variable_name</th><th scope=col>second_variable_name</th><th scope=col>value</th></tr>\n",
       "\t<tr><th scope=col>&lt;chr&gt;</th><th scope=col>&lt;chr&gt;</th><th scope=col>&lt;chr&gt;</th><th scope=col>&lt;chr&gt;</th><th scope=col>&lt;dbl&gt;</th></tr>\n",
       "</thead>\n",
       "<tbody>\n",
       "\t<tr><td>Germany    </td><td>1960</td><td>fertility</td><td>NA        </td><td> 2.41</td></tr>\n",
       "\t<tr><td>South Korea</td><td>1960</td><td>fertility</td><td>NA        </td><td> 6.16</td></tr>\n",
       "\t<tr><td>Germany    </td><td>1960</td><td>life     </td><td>expectancy</td><td>69.26</td></tr>\n",
       "\t<tr><td>South Korea</td><td>1960</td><td>life     </td><td>expectancy</td><td>53.02</td></tr>\n",
       "\t<tr><td>Germany    </td><td>1961</td><td>fertility</td><td>NA        </td><td> 2.44</td></tr>\n",
       "\t<tr><td>South Korea</td><td>1961</td><td>fertility</td><td>NA        </td><td> 5.99</td></tr>\n",
       "</tbody>\n",
       "</table>\n"
      ],
      "text/latex": [
       "A tibble: 6 × 5\n",
       "\\begin{tabular}{r|lllll}\n",
       " country & year & first\\_variable\\_name & second\\_variable\\_name & value\\\\\n",
       " <chr> & <chr> & <chr> & <chr> & <dbl>\\\\\n",
       "\\hline\n",
       "\t Germany     & 1960 & fertility & NA         &  2.41\\\\\n",
       "\t South Korea & 1960 & fertility & NA         &  6.16\\\\\n",
       "\t Germany     & 1960 & life      & expectancy & 69.26\\\\\n",
       "\t South Korea & 1960 & life      & expectancy & 53.02\\\\\n",
       "\t Germany     & 1961 & fertility & NA         &  2.44\\\\\n",
       "\t South Korea & 1961 & fertility & NA         &  5.99\\\\\n",
       "\\end{tabular}\n"
      ],
      "text/markdown": [
       "\n",
       "A tibble: 6 × 5\n",
       "\n",
       "| country &lt;chr&gt; | year &lt;chr&gt; | first_variable_name &lt;chr&gt; | second_variable_name &lt;chr&gt; | value &lt;dbl&gt; |\n",
       "|---|---|---|---|---|\n",
       "| Germany     | 1960 | fertility | NA         |  2.41 |\n",
       "| South Korea | 1960 | fertility | NA         |  6.16 |\n",
       "| Germany     | 1960 | life      | expectancy | 69.26 |\n",
       "| South Korea | 1960 | life      | expectancy | 53.02 |\n",
       "| Germany     | 1961 | fertility | NA         |  2.44 |\n",
       "| South Korea | 1961 | fertility | NA         |  5.99 |\n",
       "\n"
      ],
      "text/plain": [
       "  country     year first_variable_name second_variable_name value\n",
       "1 Germany     1960 fertility           NA                    2.41\n",
       "2 South Korea 1960 fertility           NA                    6.16\n",
       "3 Germany     1960 life                expectancy           69.26\n",
       "4 South Korea 1960 life                expectancy           53.02\n",
       "5 Germany     1961 fertility           NA                    2.44\n",
       "6 South Korea 1961 fertility           NA                    5.99"
      ]
     },
     "metadata": {},
     "output_type": "display_data"
    }
   ],
   "source": [
    "var_names <- c(\"year\", \"first_variable_name\", \"second_variable_name\")\n",
    "dat %>% separate(col = key, into = var_names, fill = \"right\") %>% head"
   ]
  },
  {
   "cell_type": "code",
   "execution_count": 40,
   "metadata": {},
   "outputs": [],
   "source": [
    "# However, if we read the separate help file, \n",
    "# we find that a better approach is to merge the last two variables when there is an extra separatio"
   ]
  },
  {
   "cell_type": "code",
   "execution_count": 41,
   "metadata": {},
   "outputs": [
    {
     "data": {
      "text/html": [
       "<table>\n",
       "<caption>A tibble: 6 × 4</caption>\n",
       "<thead>\n",
       "\t<tr><th scope=col>country</th><th scope=col>year</th><th scope=col>variable_name</th><th scope=col>value</th></tr>\n",
       "\t<tr><th scope=col>&lt;chr&gt;</th><th scope=col>&lt;chr&gt;</th><th scope=col>&lt;chr&gt;</th><th scope=col>&lt;dbl&gt;</th></tr>\n",
       "</thead>\n",
       "<tbody>\n",
       "\t<tr><td>Germany    </td><td>1960</td><td>fertility      </td><td> 2.41</td></tr>\n",
       "\t<tr><td>South Korea</td><td>1960</td><td>fertility      </td><td> 6.16</td></tr>\n",
       "\t<tr><td>Germany    </td><td>1960</td><td>life_expectancy</td><td>69.26</td></tr>\n",
       "\t<tr><td>South Korea</td><td>1960</td><td>life_expectancy</td><td>53.02</td></tr>\n",
       "\t<tr><td>Germany    </td><td>1961</td><td>fertility      </td><td> 2.44</td></tr>\n",
       "\t<tr><td>South Korea</td><td>1961</td><td>fertility      </td><td> 5.99</td></tr>\n",
       "</tbody>\n",
       "</table>\n"
      ],
      "text/latex": [
       "A tibble: 6 × 4\n",
       "\\begin{tabular}{r|llll}\n",
       " country & year & variable\\_name & value\\\\\n",
       " <chr> & <chr> & <chr> & <dbl>\\\\\n",
       "\\hline\n",
       "\t Germany     & 1960 & fertility       &  2.41\\\\\n",
       "\t South Korea & 1960 & fertility       &  6.16\\\\\n",
       "\t Germany     & 1960 & life\\_expectancy & 69.26\\\\\n",
       "\t South Korea & 1960 & life\\_expectancy & 53.02\\\\\n",
       "\t Germany     & 1961 & fertility       &  2.44\\\\\n",
       "\t South Korea & 1961 & fertility       &  5.99\\\\\n",
       "\\end{tabular}\n"
      ],
      "text/markdown": [
       "\n",
       "A tibble: 6 × 4\n",
       "\n",
       "| country &lt;chr&gt; | year &lt;chr&gt; | variable_name &lt;chr&gt; | value &lt;dbl&gt; |\n",
       "|---|---|---|---|\n",
       "| Germany     | 1960 | fertility       |  2.41 |\n",
       "| South Korea | 1960 | fertility       |  6.16 |\n",
       "| Germany     | 1960 | life_expectancy | 69.26 |\n",
       "| South Korea | 1960 | life_expectancy | 53.02 |\n",
       "| Germany     | 1961 | fertility       |  2.44 |\n",
       "| South Korea | 1961 | fertility       |  5.99 |\n",
       "\n"
      ],
      "text/plain": [
       "  country     year variable_name   value\n",
       "1 Germany     1960 fertility        2.41\n",
       "2 South Korea 1960 fertility        6.16\n",
       "3 Germany     1960 life_expectancy 69.26\n",
       "4 South Korea 1960 life_expectancy 53.02\n",
       "5 Germany     1961 fertility        2.44\n",
       "6 South Korea 1961 fertility        5.99"
      ]
     },
     "metadata": {},
     "output_type": "display_data"
    }
   ],
   "source": [
    "dat %>% separate(key, c(\"year\", \"variable_name\"), extra = \"merge\") %>% head #better\n",
    "#still we not done, we need to create column for each variable, fertility and life expectancy in this case"
   ]
  },
  {
   "cell_type": "code",
   "execution_count": 42,
   "metadata": {},
   "outputs": [
    {
     "data": {
      "text/html": [
       "<table>\n",
       "<caption>A tibble: 6 × 4</caption>\n",
       "<thead>\n",
       "\t<tr><th scope=col>country</th><th scope=col>year</th><th scope=col>fertility</th><th scope=col>life_expectancy</th></tr>\n",
       "\t<tr><th scope=col>&lt;chr&gt;</th><th scope=col>&lt;chr&gt;</th><th scope=col>&lt;dbl&gt;</th><th scope=col>&lt;dbl&gt;</th></tr>\n",
       "</thead>\n",
       "<tbody>\n",
       "\t<tr><td>Germany</td><td>1960</td><td>2.41</td><td>69.26</td></tr>\n",
       "\t<tr><td>Germany</td><td>1961</td><td>2.44</td><td>69.85</td></tr>\n",
       "\t<tr><td>Germany</td><td>1962</td><td>2.47</td><td>70.01</td></tr>\n",
       "\t<tr><td>Germany</td><td>1963</td><td>2.49</td><td>70.10</td></tr>\n",
       "\t<tr><td>Germany</td><td>1964</td><td>2.49</td><td>70.66</td></tr>\n",
       "\t<tr><td>Germany</td><td>1965</td><td>2.48</td><td>70.65</td></tr>\n",
       "</tbody>\n",
       "</table>\n"
      ],
      "text/latex": [
       "A tibble: 6 × 4\n",
       "\\begin{tabular}{r|llll}\n",
       " country & year & fertility & life\\_expectancy\\\\\n",
       " <chr> & <chr> & <dbl> & <dbl>\\\\\n",
       "\\hline\n",
       "\t Germany & 1960 & 2.41 & 69.26\\\\\n",
       "\t Germany & 1961 & 2.44 & 69.85\\\\\n",
       "\t Germany & 1962 & 2.47 & 70.01\\\\\n",
       "\t Germany & 1963 & 2.49 & 70.10\\\\\n",
       "\t Germany & 1964 & 2.49 & 70.66\\\\\n",
       "\t Germany & 1965 & 2.48 & 70.65\\\\\n",
       "\\end{tabular}\n"
      ],
      "text/markdown": [
       "\n",
       "A tibble: 6 × 4\n",
       "\n",
       "| country &lt;chr&gt; | year &lt;chr&gt; | fertility &lt;dbl&gt; | life_expectancy &lt;dbl&gt; |\n",
       "|---|---|---|---|\n",
       "| Germany | 1960 | 2.41 | 69.26 |\n",
       "| Germany | 1961 | 2.44 | 69.85 |\n",
       "| Germany | 1962 | 2.47 | 70.01 |\n",
       "| Germany | 1963 | 2.49 | 70.10 |\n",
       "| Germany | 1964 | 2.49 | 70.66 |\n",
       "| Germany | 1965 | 2.48 | 70.65 |\n",
       "\n"
      ],
      "text/plain": [
       "  country year fertility life_expectancy\n",
       "1 Germany 1960 2.41      69.26          \n",
       "2 Germany 1961 2.44      69.85          \n",
       "3 Germany 1962 2.47      70.01          \n",
       "4 Germany 1963 2.49      70.10          \n",
       "5 Germany 1964 2.49      70.66          \n",
       "6 Germany 1965 2.48      70.65          "
      ]
     },
     "metadata": {},
     "output_type": "display_data"
    }
   ],
   "source": [
    "dat %>% separate(key, c(\"year\", \"variable_name\"), extra = \"merge\") %>% spread(key = 'variable_name', value = 'value') %>% head"
   ]
  },
  {
   "cell_type": "code",
   "execution_count": 43,
   "metadata": {},
   "outputs": [],
   "source": [
    "# unite\n",
    "# inverse of separate"
   ]
  },
  {
   "cell_type": "code",
   "execution_count": 46,
   "metadata": {},
   "outputs": [
    {
     "data": {
      "text/html": [
       "<table>\n",
       "<caption>A tibble: 6 × 5</caption>\n",
       "<thead>\n",
       "\t<tr><th scope=col>country</th><th scope=col>year</th><th scope=col>first_variable_name</th><th scope=col>second_variable_name</th><th scope=col>value</th></tr>\n",
       "\t<tr><th scope=col>&lt;chr&gt;</th><th scope=col>&lt;chr&gt;</th><th scope=col>&lt;chr&gt;</th><th scope=col>&lt;chr&gt;</th><th scope=col>&lt;dbl&gt;</th></tr>\n",
       "</thead>\n",
       "<tbody>\n",
       "\t<tr><td>Germany    </td><td>1960</td><td>fertility</td><td>NA        </td><td> 2.41</td></tr>\n",
       "\t<tr><td>South Korea</td><td>1960</td><td>fertility</td><td>NA        </td><td> 6.16</td></tr>\n",
       "\t<tr><td>Germany    </td><td>1960</td><td>life     </td><td>expectancy</td><td>69.26</td></tr>\n",
       "\t<tr><td>South Korea</td><td>1960</td><td>life     </td><td>expectancy</td><td>53.02</td></tr>\n",
       "\t<tr><td>Germany    </td><td>1961</td><td>fertility</td><td>NA        </td><td> 2.44</td></tr>\n",
       "\t<tr><td>South Korea</td><td>1961</td><td>fertility</td><td>NA        </td><td> 5.99</td></tr>\n",
       "</tbody>\n",
       "</table>\n"
      ],
      "text/latex": [
       "A tibble: 6 × 5\n",
       "\\begin{tabular}{r|lllll}\n",
       " country & year & first\\_variable\\_name & second\\_variable\\_name & value\\\\\n",
       " <chr> & <chr> & <chr> & <chr> & <dbl>\\\\\n",
       "\\hline\n",
       "\t Germany     & 1960 & fertility & NA         &  2.41\\\\\n",
       "\t South Korea & 1960 & fertility & NA         &  6.16\\\\\n",
       "\t Germany     & 1960 & life      & expectancy & 69.26\\\\\n",
       "\t South Korea & 1960 & life      & expectancy & 53.02\\\\\n",
       "\t Germany     & 1961 & fertility & NA         &  2.44\\\\\n",
       "\t South Korea & 1961 & fertility & NA         &  5.99\\\\\n",
       "\\end{tabular}\n"
      ],
      "text/markdown": [
       "\n",
       "A tibble: 6 × 5\n",
       "\n",
       "| country &lt;chr&gt; | year &lt;chr&gt; | first_variable_name &lt;chr&gt; | second_variable_name &lt;chr&gt; | value &lt;dbl&gt; |\n",
       "|---|---|---|---|---|\n",
       "| Germany     | 1960 | fertility | NA         |  2.41 |\n",
       "| South Korea | 1960 | fertility | NA         |  6.16 |\n",
       "| Germany     | 1960 | life      | expectancy | 69.26 |\n",
       "| South Korea | 1960 | life      | expectancy | 53.02 |\n",
       "| Germany     | 1961 | fertility | NA         |  2.44 |\n",
       "| South Korea | 1961 | fertility | NA         |  5.99 |\n",
       "\n"
      ],
      "text/plain": [
       "  country     year first_variable_name second_variable_name value\n",
       "1 Germany     1960 fertility           NA                    2.41\n",
       "2 South Korea 1960 fertility           NA                    6.16\n",
       "3 Germany     1960 life                expectancy           69.26\n",
       "4 South Korea 1960 life                expectancy           53.02\n",
       "5 Germany     1961 fertility           NA                    2.44\n",
       "6 South Korea 1961 fertility           NA                    5.99"
      ]
     },
     "metadata": {},
     "output_type": "display_data"
    }
   ],
   "source": [
    "dat %>% \n",
    "  separate(col = key, into = var_names, fill = \"right\") %>% head"
   ]
  },
  {
   "cell_type": "code",
   "execution_count": 50,
   "metadata": {},
   "outputs": [
    {
     "data": {
      "text/html": [
       "<table>\n",
       "<caption>A tibble: 6 × 4</caption>\n",
       "<thead>\n",
       "\t<tr><th scope=col>country</th><th scope=col>year</th><th scope=col>fertility</th><th scope=col>life_expectancy</th></tr>\n",
       "\t<tr><th scope=col>&lt;chr&gt;</th><th scope=col>&lt;chr&gt;</th><th scope=col>&lt;dbl&gt;</th><th scope=col>&lt;dbl&gt;</th></tr>\n",
       "</thead>\n",
       "<tbody>\n",
       "\t<tr><td>Germany</td><td>1960</td><td>2.41</td><td>69.26</td></tr>\n",
       "\t<tr><td>Germany</td><td>1961</td><td>2.44</td><td>69.85</td></tr>\n",
       "\t<tr><td>Germany</td><td>1962</td><td>2.47</td><td>70.01</td></tr>\n",
       "\t<tr><td>Germany</td><td>1963</td><td>2.49</td><td>70.10</td></tr>\n",
       "\t<tr><td>Germany</td><td>1964</td><td>2.49</td><td>70.66</td></tr>\n",
       "\t<tr><td>Germany</td><td>1965</td><td>2.48</td><td>70.65</td></tr>\n",
       "</tbody>\n",
       "</table>\n"
      ],
      "text/latex": [
       "A tibble: 6 × 4\n",
       "\\begin{tabular}{r|llll}\n",
       " country & year & fertility & life\\_expectancy\\\\\n",
       " <chr> & <chr> & <dbl> & <dbl>\\\\\n",
       "\\hline\n",
       "\t Germany & 1960 & 2.41 & 69.26\\\\\n",
       "\t Germany & 1961 & 2.44 & 69.85\\\\\n",
       "\t Germany & 1962 & 2.47 & 70.01\\\\\n",
       "\t Germany & 1963 & 2.49 & 70.10\\\\\n",
       "\t Germany & 1964 & 2.49 & 70.66\\\\\n",
       "\t Germany & 1965 & 2.48 & 70.65\\\\\n",
       "\\end{tabular}\n"
      ],
      "text/markdown": [
       "\n",
       "A tibble: 6 × 4\n",
       "\n",
       "| country &lt;chr&gt; | year &lt;chr&gt; | fertility &lt;dbl&gt; | life_expectancy &lt;dbl&gt; |\n",
       "|---|---|---|---|\n",
       "| Germany | 1960 | 2.41 | 69.26 |\n",
       "| Germany | 1961 | 2.44 | 69.85 |\n",
       "| Germany | 1962 | 2.47 | 70.01 |\n",
       "| Germany | 1963 | 2.49 | 70.10 |\n",
       "| Germany | 1964 | 2.49 | 70.66 |\n",
       "| Germany | 1965 | 2.48 | 70.65 |\n",
       "\n"
      ],
      "text/plain": [
       "  country year fertility life_expectancy\n",
       "1 Germany 1960 2.41      69.26          \n",
       "2 Germany 1961 2.44      69.85          \n",
       "3 Germany 1962 2.47      70.01          \n",
       "4 Germany 1963 2.49      70.10          \n",
       "5 Germany 1964 2.49      70.66          \n",
       "6 Germany 1965 2.48      70.65          "
      ]
     },
     "metadata": {},
     "output_type": "display_data"
    }
   ],
   "source": [
    "dat %>% \n",
    "  separate(col = key, into = var_names, fill = \"right\") %>%\n",
    "  unite(variable_name, first_variable_name, second_variable_name) %>%\n",
    "  spread(key = variable_name, value = value) %>%\n",
    "  rename(fertility = fertility_NA) %>% head"
   ]
  },
  {
   "cell_type": "code",
   "execution_count": null,
   "metadata": {},
   "outputs": [],
   "source": []
  },
  {
   "cell_type": "code",
   "execution_count": null,
   "metadata": {},
   "outputs": [],
   "source": []
  }
 ],
 "metadata": {
  "kernelspec": {
   "display_name": "R",
   "language": "R",
   "name": "ir"
  },
  "language_info": {
   "codemirror_mode": "r",
   "file_extension": ".r",
   "mimetype": "text/x-r-source",
   "name": "R",
   "pygments_lexer": "r",
   "version": "3.6.1"
  }
 },
 "nbformat": 4,
 "nbformat_minor": 2
}
