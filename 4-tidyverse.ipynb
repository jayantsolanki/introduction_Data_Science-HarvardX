{
 "cells": [
  {
   "cell_type": "markdown",
   "metadata": {},
   "source": [
    "`a data table is in tidy format if each row represents one observation and columns represent the different variables available for each of these observations`"
   ]
  },
  {
   "cell_type": "code",
   "execution_count": 6,
   "metadata": {},
   "outputs": [
    {
     "name": "stderr",
     "output_type": "stream",
     "text": [
      "-- \u001b[1mAttaching packages\u001b[22m --------------------------------------- tidyverse 1.2.1 --\n",
      "\u001b[32mv\u001b[39m \u001b[34mggplot2\u001b[39m 3.2.1     \u001b[32mv\u001b[39m \u001b[34mpurrr  \u001b[39m 0.3.3\n",
      "\u001b[32mv\u001b[39m \u001b[34mtibble \u001b[39m 3.0.1     \u001b[32mv\u001b[39m \u001b[34mdplyr  \u001b[39m 0.8.3\n",
      "\u001b[32mv\u001b[39m \u001b[34mtidyr  \u001b[39m 1.0.0     \u001b[32mv\u001b[39m \u001b[34mstringr\u001b[39m 1.4.0\n",
      "\u001b[32mv\u001b[39m \u001b[34mreadr  \u001b[39m 1.3.1     \u001b[32mv\u001b[39m \u001b[34mforcats\u001b[39m 0.4.0\n",
      "Warning message:\n",
      "\"package 'tibble' was built under R version 3.6.3\"Warning message:\n",
      "\"package 'stringr' was built under R version 3.6.3\"-- \u001b[1mConflicts\u001b[22m ------------------------------------------ tidyverse_conflicts() --\n",
      "\u001b[31mx\u001b[39m \u001b[34mdplyr\u001b[39m::\u001b[32mfilter()\u001b[39m masks \u001b[34mstats\u001b[39m::filter()\n",
      "\u001b[31mx\u001b[39m \u001b[34mdplyr\u001b[39m::\u001b[32mlag()\u001b[39m    masks \u001b[34mstats\u001b[39m::lag()\n"
     ]
    }
   ],
   "source": [
    "# For the tidyverse packages to be optimally used, data need to be reshaped into tidy format\n",
    "library(tidyverse)"
   ]
  },
  {
   "cell_type": "code",
   "execution_count": 2,
   "metadata": {},
   "outputs": [
    {
     "name": "stderr",
     "output_type": "stream",
     "text": [
      "Warning message:\n",
      "\"package 'dslabs' was built under R version 3.6.3\""
     ]
    }
   ],
   "source": [
    "library(dslabs)\n",
    "data(\"murders\")"
   ]
  },
  {
   "cell_type": "code",
   "execution_count": 3,
   "metadata": {},
   "outputs": [
    {
     "data": {
      "text/html": [
       "<table>\n",
       "<caption>A data.frame: 6 × 5</caption>\n",
       "<thead>\n",
       "\t<tr><th scope=col>state</th><th scope=col>abb</th><th scope=col>region</th><th scope=col>population</th><th scope=col>total</th></tr>\n",
       "\t<tr><th scope=col>&lt;chr&gt;</th><th scope=col>&lt;chr&gt;</th><th scope=col>&lt;fct&gt;</th><th scope=col>&lt;dbl&gt;</th><th scope=col>&lt;dbl&gt;</th></tr>\n",
       "</thead>\n",
       "<tbody>\n",
       "\t<tr><td>Alabama   </td><td>AL</td><td>South</td><td> 4779736</td><td> 135</td></tr>\n",
       "\t<tr><td>Alaska    </td><td>AK</td><td>West </td><td>  710231</td><td>  19</td></tr>\n",
       "\t<tr><td>Arizona   </td><td>AZ</td><td>West </td><td> 6392017</td><td> 232</td></tr>\n",
       "\t<tr><td>Arkansas  </td><td>AR</td><td>South</td><td> 2915918</td><td>  93</td></tr>\n",
       "\t<tr><td>California</td><td>CA</td><td>West </td><td>37253956</td><td>1257</td></tr>\n",
       "\t<tr><td>Colorado  </td><td>CO</td><td>West </td><td> 5029196</td><td>  65</td></tr>\n",
       "</tbody>\n",
       "</table>\n"
      ],
      "text/latex": [
       "A data.frame: 6 × 5\n",
       "\\begin{tabular}{r|lllll}\n",
       " state & abb & region & population & total\\\\\n",
       " <chr> & <chr> & <fct> & <dbl> & <dbl>\\\\\n",
       "\\hline\n",
       "\t Alabama    & AL & South &  4779736 &  135\\\\\n",
       "\t Alaska     & AK & West  &   710231 &   19\\\\\n",
       "\t Arizona    & AZ & West  &  6392017 &  232\\\\\n",
       "\t Arkansas   & AR & South &  2915918 &   93\\\\\n",
       "\t California & CA & West  & 37253956 & 1257\\\\\n",
       "\t Colorado   & CO & West  &  5029196 &   65\\\\\n",
       "\\end{tabular}\n"
      ],
      "text/markdown": [
       "\n",
       "A data.frame: 6 × 5\n",
       "\n",
       "| state &lt;chr&gt; | abb &lt;chr&gt; | region &lt;fct&gt; | population &lt;dbl&gt; | total &lt;dbl&gt; |\n",
       "|---|---|---|---|---|\n",
       "| Alabama    | AL | South |  4779736 |  135 |\n",
       "| Alaska     | AK | West  |   710231 |   19 |\n",
       "| Arizona    | AZ | West  |  6392017 |  232 |\n",
       "| Arkansas   | AR | South |  2915918 |   93 |\n",
       "| California | CA | West  | 37253956 | 1257 |\n",
       "| Colorado   | CO | West  |  5029196 |   65 |\n",
       "\n"
      ],
      "text/plain": [
       "  state      abb region population total\n",
       "1 Alabama    AL  South   4779736    135 \n",
       "2 Alaska     AK  West     710231     19 \n",
       "3 Arizona    AZ  West    6392017    232 \n",
       "4 Arkansas   AR  South   2915918     93 \n",
       "5 California CA  West   37253956   1257 \n",
       "6 Colorado   CO  West    5029196     65 "
      ]
     },
     "metadata": {},
     "output_type": "display_data"
    }
   ],
   "source": [
    "head(murders)"
   ]
  },
  {
   "cell_type": "code",
   "execution_count": 8,
   "metadata": {},
   "outputs": [
    {
     "data": {
      "text/html": [
       "2"
      ],
      "text/latex": [
       "2"
      ],
      "text/markdown": [
       "2"
      ],
      "text/plain": [
       "[1] 2"
      ]
     },
     "metadata": {},
     "output_type": "display_data"
    },
    {
     "data": {
      "text/html": [
       "2"
      ],
      "text/latex": [
       "2"
      ],
      "text/markdown": [
       "2"
      ],
      "text/plain": [
       "[1] 2"
      ]
     },
     "metadata": {},
     "output_type": "display_data"
    }
   ],
   "source": [
    "16 %>% sqrt() %>% log2()\n",
    "#above equivalent to\n",
    "log2(sqrt(16))"
   ]
  },
  {
   "cell_type": "code",
   "execution_count": 9,
   "metadata": {},
   "outputs": [
    {
     "data": {
      "text/html": [
       "2"
      ],
      "text/latex": [
       "2"
      ],
      "text/markdown": [
       "2"
      ],
      "text/plain": [
       "[1] 2"
      ]
     },
     "metadata": {},
     "output_type": "display_data"
    }
   ],
   "source": [
    "# Remember that the pipe sends values to the first argument, \n",
    "# so we can define other arguments as if the first argument is already defined:\n",
    "16 %>% sqrt() %>% log(base = 2)"
   ]
  },
  {
   "cell_type": "code",
   "execution_count": 11,
   "metadata": {},
   "outputs": [],
   "source": [
    "# summarizing data\n",
    "# More informative summaries can often be achieved by first splitting data into groups\n",
    "# summarize and group_by"
   ]
  },
  {
   "cell_type": "code",
   "execution_count": 33,
   "metadata": {},
   "outputs": [],
   "source": [
    "murders <- mutate(murders, rate =  total / population * 100000, \n",
    "                  rank = rank(-rate))"
   ]
  },
  {
   "cell_type": "code",
   "execution_count": 12,
   "metadata": {},
   "outputs": [],
   "source": [
    "data(heights)"
   ]
  },
  {
   "cell_type": "code",
   "execution_count": 13,
   "metadata": {},
   "outputs": [
    {
     "data": {
      "text/html": [
       "<table>\n",
       "<caption>A data.frame: 6 × 2</caption>\n",
       "<thead>\n",
       "\t<tr><th scope=col>sex</th><th scope=col>height</th></tr>\n",
       "\t<tr><th scope=col>&lt;fct&gt;</th><th scope=col>&lt;dbl&gt;</th></tr>\n",
       "</thead>\n",
       "<tbody>\n",
       "\t<tr><td>Male  </td><td>75</td></tr>\n",
       "\t<tr><td>Male  </td><td>70</td></tr>\n",
       "\t<tr><td>Male  </td><td>68</td></tr>\n",
       "\t<tr><td>Male  </td><td>74</td></tr>\n",
       "\t<tr><td>Male  </td><td>61</td></tr>\n",
       "\t<tr><td>Female</td><td>65</td></tr>\n",
       "</tbody>\n",
       "</table>\n"
      ],
      "text/latex": [
       "A data.frame: 6 × 2\n",
       "\\begin{tabular}{r|ll}\n",
       " sex & height\\\\\n",
       " <fct> & <dbl>\\\\\n",
       "\\hline\n",
       "\t Male   & 75\\\\\n",
       "\t Male   & 70\\\\\n",
       "\t Male   & 68\\\\\n",
       "\t Male   & 74\\\\\n",
       "\t Male   & 61\\\\\n",
       "\t Female & 65\\\\\n",
       "\\end{tabular}\n"
      ],
      "text/markdown": [
       "\n",
       "A data.frame: 6 × 2\n",
       "\n",
       "| sex &lt;fct&gt; | height &lt;dbl&gt; |\n",
       "|---|---|\n",
       "| Male   | 75 |\n",
       "| Male   | 70 |\n",
       "| Male   | 68 |\n",
       "| Male   | 74 |\n",
       "| Male   | 61 |\n",
       "| Female | 65 |\n",
       "\n"
      ],
      "text/plain": [
       "  sex    height\n",
       "1 Male   75    \n",
       "2 Male   70    \n",
       "3 Male   68    \n",
       "4 Male   74    \n",
       "5 Male   61    \n",
       "6 Female 65    "
      ]
     },
     "metadata": {},
     "output_type": "display_data"
    }
   ],
   "source": [
    "heights %>% head"
   ]
  },
  {
   "cell_type": "code",
   "execution_count": 15,
   "metadata": {},
   "outputs": [
    {
     "data": {
      "text/html": [
       "<table>\n",
       "<caption>A data.frame: 1 × 2</caption>\n",
       "<thead>\n",
       "\t<tr><th scope=col>average</th><th scope=col>standard_deviation</th></tr>\n",
       "\t<tr><th scope=col>&lt;dbl&gt;</th><th scope=col>&lt;dbl&gt;</th></tr>\n",
       "</thead>\n",
       "<tbody>\n",
       "\t<tr><td>64.93942</td><td>3.760656</td></tr>\n",
       "</tbody>\n",
       "</table>\n"
      ],
      "text/latex": [
       "A data.frame: 1 × 2\n",
       "\\begin{tabular}{r|ll}\n",
       " average & standard\\_deviation\\\\\n",
       " <dbl> & <dbl>\\\\\n",
       "\\hline\n",
       "\t 64.93942 & 3.760656\\\\\n",
       "\\end{tabular}\n"
      ],
      "text/markdown": [
       "\n",
       "A data.frame: 1 × 2\n",
       "\n",
       "| average &lt;dbl&gt; | standard_deviation &lt;dbl&gt; |\n",
       "|---|---|\n",
       "| 64.93942 | 3.760656 |\n",
       "\n"
      ],
      "text/plain": [
       "  average  standard_deviation\n",
       "1 64.93942 3.760656          "
      ]
     },
     "metadata": {},
     "output_type": "display_data"
    }
   ],
   "source": [
    "s <- heights %>% \n",
    "  filter(sex == \"Female\") %>%\n",
    "  summarize(average = mean(height), standard_deviation = sd(height))  # you do not need to always ue summarize with group_by\n",
    "s"
   ]
  },
  {
   "cell_type": "code",
   "execution_count": 24,
   "metadata": {},
   "outputs": [
    {
     "name": "stderr",
     "output_type": "stream",
     "text": [
      "error occurred\n",
      "With the function summarize, we can only call functions that return a single value.\n"
     ]
    }
   ],
   "source": [
    "tryCatch({heights %>% \n",
    "      filter(sex == \"Female\") %>%\n",
    "      summarize(range = quantile(height, c(0, 0.5, 1)))\n",
    "        },\n",
    "     error = function(cond){\n",
    "         message(\"error occurred\")\n",
    "         message(\"With the function summarize, we can only call functions that return a single value.\")\n",
    "     }\n",
    ")"
   ]
  },
  {
   "cell_type": "code",
   "execution_count": 25,
   "metadata": {},
   "outputs": [
    {
     "data": {
      "text/html": [
       "<table>\n",
       "<caption>A data.frame: 1 × 1</caption>\n",
       "<thead>\n",
       "\t<tr><th scope=col>rate</th></tr>\n",
       "\t<tr><th scope=col>&lt;dbl&gt;</th></tr>\n",
       "</thead>\n",
       "<tbody>\n",
       "\t<tr><td>3.034555</td></tr>\n",
       "</tbody>\n",
       "</table>\n"
      ],
      "text/latex": [
       "A data.frame: 1 × 1\n",
       "\\begin{tabular}{r|l}\n",
       " rate\\\\\n",
       " <dbl>\\\\\n",
       "\\hline\n",
       "\t 3.034555\\\\\n",
       "\\end{tabular}\n"
      ],
      "text/markdown": [
       "\n",
       "A data.frame: 1 × 1\n",
       "\n",
       "| rate &lt;dbl&gt; |\n",
       "|---|\n",
       "| 3.034555 |\n",
       "\n"
      ],
      "text/plain": [
       "  rate    \n",
       "1 3.034555"
      ]
     },
     "metadata": {},
     "output_type": "display_data"
    }
   ],
   "source": [
    "us_murder_rate <- murders %>%\n",
    "  summarize(rate = sum(total) / sum(population) * 100000)\n",
    "us_murder_rate"
   ]
  },
  {
   "cell_type": "code",
   "execution_count": 26,
   "metadata": {},
   "outputs": [
    {
     "data": {
      "text/html": [
       "3.03455486317059"
      ],
      "text/latex": [
       "3.03455486317059"
      ],
      "text/markdown": [
       "3.03455486317059"
      ],
      "text/plain": [
       "[1] 3.034555"
      ]
     },
     "metadata": {},
     "output_type": "display_data"
    }
   ],
   "source": [
    "# as most dplyr functions, summarize always returns a data frame\n",
    "# to just get the value, use pull\n",
    "us_murder_rate %>% pull(rate)"
   ]
  },
  {
   "cell_type": "markdown",
   "metadata": {},
   "source": [
    "`A common operation in data exploration is to first split data into groups and then compute summaries for each group`"
   ]
  },
  {
   "cell_type": "code",
   "execution_count": 27,
   "metadata": {},
   "outputs": [
    {
     "data": {
      "text/html": [
       "<table>\n",
       "<caption>A tibble: 2 × 3</caption>\n",
       "<thead>\n",
       "\t<tr><th scope=col>sex</th><th scope=col>average</th><th scope=col>standard_deviation</th></tr>\n",
       "\t<tr><th scope=col>&lt;fct&gt;</th><th scope=col>&lt;dbl&gt;</th><th scope=col>&lt;dbl&gt;</th></tr>\n",
       "</thead>\n",
       "<tbody>\n",
       "\t<tr><td>Female</td><td>64.93942</td><td>3.760656</td></tr>\n",
       "\t<tr><td>Male  </td><td>69.31475</td><td>3.611024</td></tr>\n",
       "</tbody>\n",
       "</table>\n"
      ],
      "text/latex": [
       "A tibble: 2 × 3\n",
       "\\begin{tabular}{r|lll}\n",
       " sex & average & standard\\_deviation\\\\\n",
       " <fct> & <dbl> & <dbl>\\\\\n",
       "\\hline\n",
       "\t Female & 64.93942 & 3.760656\\\\\n",
       "\t Male   & 69.31475 & 3.611024\\\\\n",
       "\\end{tabular}\n"
      ],
      "text/markdown": [
       "\n",
       "A tibble: 2 × 3\n",
       "\n",
       "| sex &lt;fct&gt; | average &lt;dbl&gt; | standard_deviation &lt;dbl&gt; |\n",
       "|---|---|---|\n",
       "| Female | 64.93942 | 3.760656 |\n",
       "| Male   | 69.31475 | 3.611024 |\n",
       "\n"
      ],
      "text/plain": [
       "  sex    average  standard_deviation\n",
       "1 Female 64.93942 3.760656          \n",
       "2 Male   69.31475 3.611024          "
      ]
     },
     "metadata": {},
     "output_type": "display_data"
    }
   ],
   "source": [
    "heights %>% \n",
    "  group_by(sex) %>%\n",
    "  summarize(average = mean(height), standard_deviation = sd(height))"
   ]
  },
  {
   "cell_type": "code",
   "execution_count": 29,
   "metadata": {},
   "outputs": [],
   "source": [
    "# sorting\n",
    "# for ordering entire tables, the dplyr function arrange is useful"
   ]
  },
  {
   "cell_type": "code",
   "execution_count": 31,
   "metadata": {},
   "outputs": [
    {
     "data": {
      "text/html": [
       "<table>\n",
       "<caption>A data.frame: 6 × 5</caption>\n",
       "<thead>\n",
       "\t<tr><th scope=col>state</th><th scope=col>abb</th><th scope=col>region</th><th scope=col>population</th><th scope=col>total</th></tr>\n",
       "\t<tr><th scope=col>&lt;chr&gt;</th><th scope=col>&lt;chr&gt;</th><th scope=col>&lt;fct&gt;</th><th scope=col>&lt;dbl&gt;</th><th scope=col>&lt;dbl&gt;</th></tr>\n",
       "</thead>\n",
       "<tbody>\n",
       "\t<tr><td>Wyoming             </td><td>WY</td><td>West         </td><td>563626</td><td> 5</td></tr>\n",
       "\t<tr><td>District of Columbia</td><td>DC</td><td>South        </td><td>601723</td><td>99</td></tr>\n",
       "\t<tr><td>Vermont             </td><td>VT</td><td>Northeast    </td><td>625741</td><td> 2</td></tr>\n",
       "\t<tr><td>North Dakota        </td><td>ND</td><td>North Central</td><td>672591</td><td> 4</td></tr>\n",
       "\t<tr><td>Alaska              </td><td>AK</td><td>West         </td><td>710231</td><td>19</td></tr>\n",
       "\t<tr><td>South Dakota        </td><td>SD</td><td>North Central</td><td>814180</td><td> 8</td></tr>\n",
       "</tbody>\n",
       "</table>\n"
      ],
      "text/latex": [
       "A data.frame: 6 × 5\n",
       "\\begin{tabular}{r|lllll}\n",
       " state & abb & region & population & total\\\\\n",
       " <chr> & <chr> & <fct> & <dbl> & <dbl>\\\\\n",
       "\\hline\n",
       "\t Wyoming              & WY & West          & 563626 &  5\\\\\n",
       "\t District of Columbia & DC & South         & 601723 & 99\\\\\n",
       "\t Vermont              & VT & Northeast     & 625741 &  2\\\\\n",
       "\t North Dakota         & ND & North Central & 672591 &  4\\\\\n",
       "\t Alaska               & AK & West          & 710231 & 19\\\\\n",
       "\t South Dakota         & SD & North Central & 814180 &  8\\\\\n",
       "\\end{tabular}\n"
      ],
      "text/markdown": [
       "\n",
       "A data.frame: 6 × 5\n",
       "\n",
       "| state &lt;chr&gt; | abb &lt;chr&gt; | region &lt;fct&gt; | population &lt;dbl&gt; | total &lt;dbl&gt; |\n",
       "|---|---|---|---|---|\n",
       "| Wyoming              | WY | West          | 563626 |  5 |\n",
       "| District of Columbia | DC | South         | 601723 | 99 |\n",
       "| Vermont              | VT | Northeast     | 625741 |  2 |\n",
       "| North Dakota         | ND | North Central | 672591 |  4 |\n",
       "| Alaska               | AK | West          | 710231 | 19 |\n",
       "| South Dakota         | SD | North Central | 814180 |  8 |\n",
       "\n"
      ],
      "text/plain": [
       "  state                abb region        population total\n",
       "1 Wyoming              WY  West          563626      5   \n",
       "2 District of Columbia DC  South         601723     99   \n",
       "3 Vermont              VT  Northeast     625741      2   \n",
       "4 North Dakota         ND  North Central 672591      4   \n",
       "5 Alaska               AK  West          710231     19   \n",
       "6 South Dakota         SD  North Central 814180      8   "
      ]
     },
     "metadata": {},
     "output_type": "display_data"
    },
    {
     "data": {
      "text/html": [
       "<table>\n",
       "<caption>A data.frame: 6 × 5</caption>\n",
       "<thead>\n",
       "\t<tr><th scope=col>state</th><th scope=col>abb</th><th scope=col>region</th><th scope=col>population</th><th scope=col>total</th></tr>\n",
       "\t<tr><th scope=col>&lt;chr&gt;</th><th scope=col>&lt;chr&gt;</th><th scope=col>&lt;fct&gt;</th><th scope=col>&lt;dbl&gt;</th><th scope=col>&lt;dbl&gt;</th></tr>\n",
       "</thead>\n",
       "<tbody>\n",
       "\t<tr><td>California  </td><td>CA</td><td>West         </td><td>37253956</td><td>1257</td></tr>\n",
       "\t<tr><td>Texas       </td><td>TX</td><td>South        </td><td>25145561</td><td> 805</td></tr>\n",
       "\t<tr><td>Florida     </td><td>FL</td><td>South        </td><td>19687653</td><td> 669</td></tr>\n",
       "\t<tr><td>New York    </td><td>NY</td><td>Northeast    </td><td>19378102</td><td> 517</td></tr>\n",
       "\t<tr><td>Illinois    </td><td>IL</td><td>North Central</td><td>12830632</td><td> 364</td></tr>\n",
       "\t<tr><td>Pennsylvania</td><td>PA</td><td>Northeast    </td><td>12702379</td><td> 457</td></tr>\n",
       "</tbody>\n",
       "</table>\n"
      ],
      "text/latex": [
       "A data.frame: 6 × 5\n",
       "\\begin{tabular}{r|lllll}\n",
       " state & abb & region & population & total\\\\\n",
       " <chr> & <chr> & <fct> & <dbl> & <dbl>\\\\\n",
       "\\hline\n",
       "\t California   & CA & West          & 37253956 & 1257\\\\\n",
       "\t Texas        & TX & South         & 25145561 &  805\\\\\n",
       "\t Florida      & FL & South         & 19687653 &  669\\\\\n",
       "\t New York     & NY & Northeast     & 19378102 &  517\\\\\n",
       "\t Illinois     & IL & North Central & 12830632 &  364\\\\\n",
       "\t Pennsylvania & PA & Northeast     & 12702379 &  457\\\\\n",
       "\\end{tabular}\n"
      ],
      "text/markdown": [
       "\n",
       "A data.frame: 6 × 5\n",
       "\n",
       "| state &lt;chr&gt; | abb &lt;chr&gt; | region &lt;fct&gt; | population &lt;dbl&gt; | total &lt;dbl&gt; |\n",
       "|---|---|---|---|---|\n",
       "| California   | CA | West          | 37253956 | 1257 |\n",
       "| Texas        | TX | South         | 25145561 |  805 |\n",
       "| Florida      | FL | South         | 19687653 |  669 |\n",
       "| New York     | NY | Northeast     | 19378102 |  517 |\n",
       "| Illinois     | IL | North Central | 12830632 |  364 |\n",
       "| Pennsylvania | PA | Northeast     | 12702379 |  457 |\n",
       "\n"
      ],
      "text/plain": [
       "  state        abb region        population total\n",
       "1 California   CA  West          37253956   1257 \n",
       "2 Texas        TX  South         25145561    805 \n",
       "3 Florida      FL  South         19687653    669 \n",
       "4 New York     NY  Northeast     19378102    517 \n",
       "5 Illinois     IL  North Central 12830632    364 \n",
       "6 Pennsylvania PA  Northeast     12702379    457 "
      ]
     },
     "metadata": {},
     "output_type": "display_data"
    }
   ],
   "source": [
    "murders %>%\n",
    "  arrange(population) %>%\n",
    "  head()\n",
    "# desc\n",
    "murders %>%\n",
    "  arrange(desc(population)) %>%\n",
    "  head()"
   ]
  },
  {
   "cell_type": "code",
   "execution_count": 34,
   "metadata": {},
   "outputs": [
    {
     "data": {
      "text/html": [
       "<table>\n",
       "<caption>A data.frame: 6 × 7</caption>\n",
       "<thead>\n",
       "\t<tr><th scope=col>state</th><th scope=col>abb</th><th scope=col>region</th><th scope=col>population</th><th scope=col>total</th><th scope=col>rate</th><th scope=col>rank</th></tr>\n",
       "\t<tr><th scope=col>&lt;chr&gt;</th><th scope=col>&lt;chr&gt;</th><th scope=col>&lt;fct&gt;</th><th scope=col>&lt;dbl&gt;</th><th scope=col>&lt;dbl&gt;</th><th scope=col>&lt;dbl&gt;</th><th scope=col>&lt;dbl&gt;</th></tr>\n",
       "</thead>\n",
       "<tbody>\n",
       "\t<tr><td>Vermont      </td><td>VT</td><td>Northeast</td><td>  625741</td><td>  2</td><td>0.3196211</td><td>51</td></tr>\n",
       "\t<tr><td>New Hampshire</td><td>NH</td><td>Northeast</td><td> 1316470</td><td>  5</td><td>0.3798036</td><td>50</td></tr>\n",
       "\t<tr><td>Maine        </td><td>ME</td><td>Northeast</td><td> 1328361</td><td> 11</td><td>0.8280881</td><td>44</td></tr>\n",
       "\t<tr><td>Rhode Island </td><td>RI</td><td>Northeast</td><td> 1052567</td><td> 16</td><td>1.5200933</td><td>35</td></tr>\n",
       "\t<tr><td>Massachusetts</td><td>MA</td><td>Northeast</td><td> 6547629</td><td>118</td><td>1.8021791</td><td>32</td></tr>\n",
       "\t<tr><td>New York     </td><td>NY</td><td>Northeast</td><td>19378102</td><td>517</td><td>2.6679599</td><td>29</td></tr>\n",
       "</tbody>\n",
       "</table>\n"
      ],
      "text/latex": [
       "A data.frame: 6 × 7\n",
       "\\begin{tabular}{r|lllllll}\n",
       " state & abb & region & population & total & rate & rank\\\\\n",
       " <chr> & <chr> & <fct> & <dbl> & <dbl> & <dbl> & <dbl>\\\\\n",
       "\\hline\n",
       "\t Vermont       & VT & Northeast &   625741 &   2 & 0.3196211 & 51\\\\\n",
       "\t New Hampshire & NH & Northeast &  1316470 &   5 & 0.3798036 & 50\\\\\n",
       "\t Maine         & ME & Northeast &  1328361 &  11 & 0.8280881 & 44\\\\\n",
       "\t Rhode Island  & RI & Northeast &  1052567 &  16 & 1.5200933 & 35\\\\\n",
       "\t Massachusetts & MA & Northeast &  6547629 & 118 & 1.8021791 & 32\\\\\n",
       "\t New York      & NY & Northeast & 19378102 & 517 & 2.6679599 & 29\\\\\n",
       "\\end{tabular}\n"
      ],
      "text/markdown": [
       "\n",
       "A data.frame: 6 × 7\n",
       "\n",
       "| state &lt;chr&gt; | abb &lt;chr&gt; | region &lt;fct&gt; | population &lt;dbl&gt; | total &lt;dbl&gt; | rate &lt;dbl&gt; | rank &lt;dbl&gt; |\n",
       "|---|---|---|---|---|---|---|\n",
       "| Vermont       | VT | Northeast |   625741 |   2 | 0.3196211 | 51 |\n",
       "| New Hampshire | NH | Northeast |  1316470 |   5 | 0.3798036 | 50 |\n",
       "| Maine         | ME | Northeast |  1328361 |  11 | 0.8280881 | 44 |\n",
       "| Rhode Island  | RI | Northeast |  1052567 |  16 | 1.5200933 | 35 |\n",
       "| Massachusetts | MA | Northeast |  6547629 | 118 | 1.8021791 | 32 |\n",
       "| New York      | NY | Northeast | 19378102 | 517 | 2.6679599 | 29 |\n",
       "\n"
      ],
      "text/plain": [
       "  state         abb region    population total rate      rank\n",
       "1 Vermont       VT  Northeast   625741     2   0.3196211 51  \n",
       "2 New Hampshire NH  Northeast  1316470     5   0.3798036 50  \n",
       "3 Maine         ME  Northeast  1328361    11   0.8280881 44  \n",
       "4 Rhode Island  RI  Northeast  1052567    16   1.5200933 35  \n",
       "5 Massachusetts MA  Northeast  6547629   118   1.8021791 32  \n",
       "6 New York      NY  Northeast 19378102   517   2.6679599 29  "
      ]
     },
     "metadata": {},
     "output_type": "display_data"
    }
   ],
   "source": [
    "# nested sorting\n",
    "murders %>% \n",
    "  arrange(region, rate) %>% \n",
    "  head()"
   ]
  },
  {
   "cell_type": "code",
   "execution_count": 40,
   "metadata": {},
   "outputs": [
    {
     "data": {
      "text/html": [
       "<table>\n",
       "<caption>A data.frame: 5 × 7</caption>\n",
       "<thead>\n",
       "\t<tr><th scope=col>state</th><th scope=col>abb</th><th scope=col>region</th><th scope=col>population</th><th scope=col>total</th><th scope=col>rate</th><th scope=col>rank</th></tr>\n",
       "\t<tr><th scope=col>&lt;chr&gt;</th><th scope=col>&lt;chr&gt;</th><th scope=col>&lt;fct&gt;</th><th scope=col>&lt;dbl&gt;</th><th scope=col>&lt;dbl&gt;</th><th scope=col>&lt;dbl&gt;</th><th scope=col>&lt;dbl&gt;</th></tr>\n",
       "</thead>\n",
       "<tbody>\n",
       "\t<tr><td>District of Columbia</td><td>DC</td><td>South        </td><td> 601723</td><td> 99</td><td>16.452753</td><td>1</td></tr>\n",
       "\t<tr><td>Louisiana           </td><td>LA</td><td>South        </td><td>4533372</td><td>351</td><td> 7.742581</td><td>2</td></tr>\n",
       "\t<tr><td>Maryland            </td><td>MD</td><td>South        </td><td>5773552</td><td>293</td><td> 5.074866</td><td>4</td></tr>\n",
       "\t<tr><td>Missouri            </td><td>MO</td><td>North Central</td><td>5988927</td><td>321</td><td> 5.359892</td><td>3</td></tr>\n",
       "\t<tr><td>South Carolina      </td><td>SC</td><td>South        </td><td>4625364</td><td>207</td><td> 4.475323</td><td>5</td></tr>\n",
       "</tbody>\n",
       "</table>\n"
      ],
      "text/latex": [
       "A data.frame: 5 × 7\n",
       "\\begin{tabular}{r|lllllll}\n",
       " state & abb & region & population & total & rate & rank\\\\\n",
       " <chr> & <chr> & <fct> & <dbl> & <dbl> & <dbl> & <dbl>\\\\\n",
       "\\hline\n",
       "\t District of Columbia & DC & South         &  601723 &  99 & 16.452753 & 1\\\\\n",
       "\t Louisiana            & LA & South         & 4533372 & 351 &  7.742581 & 2\\\\\n",
       "\t Maryland             & MD & South         & 5773552 & 293 &  5.074866 & 4\\\\\n",
       "\t Missouri             & MO & North Central & 5988927 & 321 &  5.359892 & 3\\\\\n",
       "\t South Carolina       & SC & South         & 4625364 & 207 &  4.475323 & 5\\\\\n",
       "\\end{tabular}\n"
      ],
      "text/markdown": [
       "\n",
       "A data.frame: 5 × 7\n",
       "\n",
       "| state &lt;chr&gt; | abb &lt;chr&gt; | region &lt;fct&gt; | population &lt;dbl&gt; | total &lt;dbl&gt; | rate &lt;dbl&gt; | rank &lt;dbl&gt; |\n",
       "|---|---|---|---|---|---|---|\n",
       "| District of Columbia | DC | South         |  601723 |  99 | 16.452753 | 1 |\n",
       "| Louisiana            | LA | South         | 4533372 | 351 |  7.742581 | 2 |\n",
       "| Maryland             | MD | South         | 5773552 | 293 |  5.074866 | 4 |\n",
       "| Missouri             | MO | North Central | 5988927 | 321 |  5.359892 | 3 |\n",
       "| South Carolina       | SC | South         | 4625364 | 207 |  4.475323 | 5 |\n",
       "\n"
      ],
      "text/plain": [
       "  state                abb region        population total rate      rank\n",
       "1 District of Columbia DC  South          601723     99   16.452753 1   \n",
       "2 Louisiana            LA  South         4533372    351    7.742581 2   \n",
       "3 Maryland             MD  South         5773552    293    5.074866 4   \n",
       "4 Missouri             MO  North Central 5988927    321    5.359892 3   \n",
       "5 South Carolina       SC  South         4625364    207    4.475323 5   "
      ]
     },
     "metadata": {},
     "output_type": "display_data"
    },
    {
     "data": {
      "text/html": [
       "<table>\n",
       "<caption>A data.frame: 5 × 7</caption>\n",
       "<thead>\n",
       "\t<tr><th scope=col>state</th><th scope=col>abb</th><th scope=col>region</th><th scope=col>population</th><th scope=col>total</th><th scope=col>rate</th><th scope=col>rank</th></tr>\n",
       "\t<tr><th scope=col>&lt;chr&gt;</th><th scope=col>&lt;chr&gt;</th><th scope=col>&lt;fct&gt;</th><th scope=col>&lt;dbl&gt;</th><th scope=col>&lt;dbl&gt;</th><th scope=col>&lt;dbl&gt;</th><th scope=col>&lt;dbl&gt;</th></tr>\n",
       "</thead>\n",
       "<tbody>\n",
       "\t<tr><td>District of Columbia</td><td>DC</td><td>South        </td><td> 601723</td><td> 99</td><td>16.452753</td><td>1</td></tr>\n",
       "\t<tr><td>Louisiana           </td><td>LA</td><td>South        </td><td>4533372</td><td>351</td><td> 7.742581</td><td>2</td></tr>\n",
       "\t<tr><td>Missouri            </td><td>MO</td><td>North Central</td><td>5988927</td><td>321</td><td> 5.359892</td><td>3</td></tr>\n",
       "\t<tr><td>Maryland            </td><td>MD</td><td>South        </td><td>5773552</td><td>293</td><td> 5.074866</td><td>4</td></tr>\n",
       "\t<tr><td>South Carolina      </td><td>SC</td><td>South        </td><td>4625364</td><td>207</td><td> 4.475323</td><td>5</td></tr>\n",
       "</tbody>\n",
       "</table>\n"
      ],
      "text/latex": [
       "A data.frame: 5 × 7\n",
       "\\begin{tabular}{r|lllllll}\n",
       " state & abb & region & population & total & rate & rank\\\\\n",
       " <chr> & <chr> & <fct> & <dbl> & <dbl> & <dbl> & <dbl>\\\\\n",
       "\\hline\n",
       "\t District of Columbia & DC & South         &  601723 &  99 & 16.452753 & 1\\\\\n",
       "\t Louisiana            & LA & South         & 4533372 & 351 &  7.742581 & 2\\\\\n",
       "\t Missouri             & MO & North Central & 5988927 & 321 &  5.359892 & 3\\\\\n",
       "\t Maryland             & MD & South         & 5773552 & 293 &  5.074866 & 4\\\\\n",
       "\t South Carolina       & SC & South         & 4625364 & 207 &  4.475323 & 5\\\\\n",
       "\\end{tabular}\n"
      ],
      "text/markdown": [
       "\n",
       "A data.frame: 5 × 7\n",
       "\n",
       "| state &lt;chr&gt; | abb &lt;chr&gt; | region &lt;fct&gt; | population &lt;dbl&gt; | total &lt;dbl&gt; | rate &lt;dbl&gt; | rank &lt;dbl&gt; |\n",
       "|---|---|---|---|---|---|---|\n",
       "| District of Columbia | DC | South         |  601723 |  99 | 16.452753 | 1 |\n",
       "| Louisiana            | LA | South         | 4533372 | 351 |  7.742581 | 2 |\n",
       "| Missouri             | MO | North Central | 5988927 | 321 |  5.359892 | 3 |\n",
       "| Maryland             | MD | South         | 5773552 | 293 |  5.074866 | 4 |\n",
       "| South Carolina       | SC | South         | 4625364 | 207 |  4.475323 | 5 |\n",
       "\n"
      ],
      "text/plain": [
       "  state                abb region        population total rate      rank\n",
       "1 District of Columbia DC  South          601723     99   16.452753 1   \n",
       "2 Louisiana            LA  South         4533372    351    7.742581 2   \n",
       "3 Missouri             MO  North Central 5988927    321    5.359892 3   \n",
       "4 Maryland             MD  South         5773552    293    5.074866 4   \n",
       "5 South Carolina       SC  South         4625364    207    4.475323 5   "
      ]
     },
     "metadata": {},
     "output_type": "display_data"
    }
   ],
   "source": [
    "# top N\n",
    "murders %>% top_n(5, rate)# note rows are not sorted by rate, only filtered\n",
    "# if want to sort, then use arrange\n",
    "murders %>% top_n(5, rate) %>% arrange(desc(rate))"
   ]
  },
  {
   "cell_type": "code",
   "execution_count": 42,
   "metadata": {},
   "outputs": [
    {
     "data": {
      "text/html": [
       "<table>\n",
       "<caption>A tibble: 3 × 2</caption>\n",
       "<thead>\n",
       "\t<tr><th scope=col>id</th><th scope=col>func</th></tr>\n",
       "\t<tr><th scope=col>&lt;dbl&gt;</th><th scope=col>&lt;list&gt;</th></tr>\n",
       "</thead>\n",
       "<tbody>\n",
       "\t<tr><td>1</td><td>function (x, ...) , UseMethod(\"mean\")</td></tr>\n",
       "\t<tr><td>2</td><td>function (x, na.rm = FALSE, ...) , UseMethod(\"median\")</td></tr>\n",
       "\t<tr><td>3</td><td>function (x, na.rm = FALSE) , sqrt(var(if (is.vector(x) || is.factor(x)) x else as.double(x), ,     na.rm = na.rm))</td></tr>\n",
       "</tbody>\n",
       "</table>\n"
      ],
      "text/latex": [
       "A tibble: 3 × 2\n",
       "\\begin{tabular}{r|ll}\n",
       " id & func\\\\\n",
       " <dbl> & <list>\\\\\n",
       "\\hline\n",
       "\t 1 & function (x, ...) , UseMethod(\"mean\")\\\\\n",
       "\t 2 & function (x, na.rm = FALSE, ...) , UseMethod(\"median\")\\\\\n",
       "\t 3 & function (x, na.rm = FALSE) , sqrt(var(if (is.vector(x) \\textbar{}\\textbar{} is.factor(x)) x else as.double(x), ,     na.rm = na.rm))\\\\\n",
       "\\end{tabular}\n"
      ],
      "text/markdown": [
       "\n",
       "A tibble: 3 × 2\n",
       "\n",
       "| id &lt;dbl&gt; | func &lt;list&gt; |\n",
       "|---|---|\n",
       "| 1 | function (x, ...) , UseMethod(\"mean\") |\n",
       "| 2 | function (x, na.rm = FALSE, ...) , UseMethod(\"median\") |\n",
       "| 3 | function (x, na.rm = FALSE) , sqrt(var(if (is.vector(x) || is.factor(x)) x else as.double(x), ,     na.rm = na.rm)) |\n",
       "\n"
      ],
      "text/plain": [
       "  id\n",
       "1 1 \n",
       "2 2 \n",
       "3 3 \n",
       "  func                                                                                                               \n",
       "1 function (x, ...) , UseMethod(\"mean\")                                                                              \n",
       "2 function (x, na.rm = FALSE, ...) , UseMethod(\"median\")                                                             \n",
       "3 function (x, na.rm = FALSE) , sqrt(var(if (is.vector(x) || is.factor(x)) x else as.double(x), ,     na.rm = na.rm))"
      ]
     },
     "metadata": {},
     "output_type": "display_data"
    }
   ],
   "source": [
    "# Tibbles\n",
    "# tibbles can have complex entries, such as lists and functions, unlike dataframe\n",
    "tibble(id = c(1, 2, 3), func = c(mean, median, sd))"
   ]
  },
  {
   "cell_type": "code",
   "execution_count": 43,
   "metadata": {},
   "outputs": [],
   "source": [
    "grades <- data.frame(names = c(\"John\", \"Juan\", \"Jean\", \"Yao\"), \n",
    "                     exam_1 = c(95, 80, 90, 85), \n",
    "                     exam_2 = c(90, 85, 85, 90))"
   ]
  },
  {
   "cell_type": "code",
   "execution_count": 46,
   "metadata": {},
   "outputs": [
    {
     "data": {
      "text/html": [
       "<table>\n",
       "<caption>A tibble: 4 × 3</caption>\n",
       "<thead>\n",
       "\t<tr><th scope=col>names</th><th scope=col>exam_1</th><th scope=col>exam_2</th></tr>\n",
       "\t<tr><th scope=col>&lt;fct&gt;</th><th scope=col>&lt;dbl&gt;</th><th scope=col>&lt;dbl&gt;</th></tr>\n",
       "</thead>\n",
       "<tbody>\n",
       "\t<tr><td>John</td><td>95</td><td>90</td></tr>\n",
       "\t<tr><td>Juan</td><td>80</td><td>85</td></tr>\n",
       "\t<tr><td>Jean</td><td>90</td><td>85</td></tr>\n",
       "\t<tr><td>Yao </td><td>85</td><td>90</td></tr>\n",
       "</tbody>\n",
       "</table>\n"
      ],
      "text/latex": [
       "A tibble: 4 × 3\n",
       "\\begin{tabular}{r|lll}\n",
       " names & exam\\_1 & exam\\_2\\\\\n",
       " <fct> & <dbl> & <dbl>\\\\\n",
       "\\hline\n",
       "\t John & 95 & 90\\\\\n",
       "\t Juan & 80 & 85\\\\\n",
       "\t Jean & 90 & 85\\\\\n",
       "\t Yao  & 85 & 90\\\\\n",
       "\\end{tabular}\n"
      ],
      "text/markdown": [
       "\n",
       "A tibble: 4 × 3\n",
       "\n",
       "| names &lt;fct&gt; | exam_1 &lt;dbl&gt; | exam_2 &lt;dbl&gt; |\n",
       "|---|---|---|\n",
       "| John | 95 | 90 |\n",
       "| Juan | 80 | 85 |\n",
       "| Jean | 90 | 85 |\n",
       "| Yao  | 85 | 90 |\n",
       "\n"
      ],
      "text/plain": [
       "  names exam_1 exam_2\n",
       "1 John  95     90    \n",
       "2 Juan  80     85    \n",
       "3 Jean  90     85    \n",
       "4 Yao   85     90    "
      ]
     },
     "metadata": {},
     "output_type": "display_data"
    }
   ],
   "source": [
    "# converting to tibble\n",
    "grades <- as_tibble(grades)\n",
    "grades\n",
    "# or define directly\n",
    "grades <- tibble(names = c(\"John\", \"Juan\", \"Jean\", \"Yao\"), \n",
    "                     exam_1 = c(95, 80, 90, 85), \n",
    "                     exam_2 = c(90, 85, 85, 90))\n"
   ]
  },
  {
   "cell_type": "markdown",
   "metadata": {},
   "source": [
    "**The dot operator**\n",
    "\n",
    "`One of the advantages of using the pipe %>% is that we do not have to keep naming new objects as we manipulate the data frame`"
   ]
  },
  {
   "cell_type": "code",
   "execution_count": 49,
   "metadata": {},
   "outputs": [],
   "source": [
    "rates <-   filter(murders, region == \"South\") %>% \n",
    "  mutate(rate = total / population * 10^5) %>% \n",
    "  .$rate\n",
    "# that is same as\n",
    "rates <-   filter(murders, region == \"South\") %>% \n",
    "  mutate(rate = total / population * 10^5) %>% \n",
    "  pull(rate)"
   ]
  },
  {
   "cell_type": "code",
   "execution_count": 50,
   "metadata": {},
   "outputs": [
    {
     "data": {
      "text/html": [
       "3.39806883024604"
      ],
      "text/latex": [
       "3.39806883024604"
      ],
      "text/markdown": [
       "3.39806883024604"
      ],
      "text/plain": [
       "[1] 3.398069"
      ]
     },
     "metadata": {},
     "output_type": "display_data"
    }
   ],
   "source": [
    "median(rates)"
   ]
  },
  {
   "cell_type": "markdown",
   "metadata": {},
   "source": [
    "# do function\n"
   ]
  },
  {
   "cell_type": "code",
   "execution_count": 57,
   "metadata": {},
   "outputs": [],
   "source": [
    "# lets revisit the quantile issue encountered earlier, mutate only return single column for single column, \n",
    "# try to re-solve it without using mutate\n",
    "\n",
    "#  write a function that fits into the tidyverse approach: that is, it receives a data frame and returns a data frame\n",
    "my_summary <- function(dat){\n",
    "  x <- quantile(dat$height, c(0, 0.5, 1))\n",
    "  tibble(min = x[1], median = x[2], max = x[3])\n",
    "}\n"
   ]
  },
  {
   "cell_type": "code",
   "execution_count": 54,
   "metadata": {},
   "outputs": [
    {
     "data": {
      "text/html": [
       "<table>\n",
       "<caption>A tibble: 1 × 3</caption>\n",
       "<thead>\n",
       "\t<tr><th scope=col>min</th><th scope=col>median</th><th scope=col>max</th></tr>\n",
       "\t<tr><th scope=col>&lt;dbl&gt;</th><th scope=col>&lt;dbl&gt;</th><th scope=col>&lt;dbl&gt;</th></tr>\n",
       "</thead>\n",
       "<tbody>\n",
       "\t<tr><td>50</td><td>68.5</td><td>82.67717</td></tr>\n",
       "</tbody>\n",
       "</table>\n"
      ],
      "text/latex": [
       "A tibble: 1 × 3\n",
       "\\begin{tabular}{r|lll}\n",
       " min & median & max\\\\\n",
       " <dbl> & <dbl> & <dbl>\\\\\n",
       "\\hline\n",
       "\t 50 & 68.5 & 82.67717\\\\\n",
       "\\end{tabular}\n"
      ],
      "text/markdown": [
       "\n",
       "A tibble: 1 × 3\n",
       "\n",
       "| min &lt;dbl&gt; | median &lt;dbl&gt; | max &lt;dbl&gt; |\n",
       "|---|---|---|\n",
       "| 50 | 68.5 | 82.67717 |\n",
       "\n"
      ],
      "text/plain": [
       "  min median max     \n",
       "1 50  68.5   82.67717"
      ]
     },
     "metadata": {},
     "output_type": "display_data"
    }
   ],
   "source": [
    "# this method wont work, because my_summary is not part of the tidyverse and does not know how to handled grouped tibbles\n",
    "heights %>% \n",
    "  group_by(sex) %>% \n",
    "  my_summary"
   ]
  },
  {
   "cell_type": "code",
   "execution_count": 59,
   "metadata": {},
   "outputs": [
    {
     "data": {
      "text/html": [
       "<table>\n",
       "<caption>A grouped_df: 2 × 4</caption>\n",
       "<thead>\n",
       "\t<tr><th scope=col>sex</th><th scope=col>min</th><th scope=col>median</th><th scope=col>max</th></tr>\n",
       "\t<tr><th scope=col>&lt;fct&gt;</th><th scope=col>&lt;dbl&gt;</th><th scope=col>&lt;dbl&gt;</th><th scope=col>&lt;dbl&gt;</th></tr>\n",
       "</thead>\n",
       "<tbody>\n",
       "\t<tr><td>Female</td><td>51</td><td>64.98031</td><td>79.00000</td></tr>\n",
       "\t<tr><td>Male  </td><td>50</td><td>69.00000</td><td>82.67717</td></tr>\n",
       "</tbody>\n",
       "</table>\n"
      ],
      "text/latex": [
       "A grouped_df: 2 × 4\n",
       "\\begin{tabular}{r|llll}\n",
       " sex & min & median & max\\\\\n",
       " <fct> & <dbl> & <dbl> & <dbl>\\\\\n",
       "\\hline\n",
       "\t Female & 51 & 64.98031 & 79.00000\\\\\n",
       "\t Male   & 50 & 69.00000 & 82.67717\\\\\n",
       "\\end{tabular}\n"
      ],
      "text/markdown": [
       "\n",
       "A grouped_df: 2 × 4\n",
       "\n",
       "| sex &lt;fct&gt; | min &lt;dbl&gt; | median &lt;dbl&gt; | max &lt;dbl&gt; |\n",
       "|---|---|---|---|\n",
       "| Female | 51 | 64.98031 | 79.00000 |\n",
       "| Male   | 50 | 69.00000 | 82.67717 |\n",
       "\n"
      ],
      "text/plain": [
       "  sex    min median   max     \n",
       "1 Female 51  64.98031 79.00000\n",
       "2 Male   50  69.00000 82.67717"
      ]
     },
     "metadata": {},
     "output_type": "display_data"
    }
   ],
   "source": [
    "    # we can use the do keyword to make a connection\n",
    "heights %>% \n",
    "  group_by(sex) %>% \n",
    "  do(my_summary(.))\n",
    "# ta daaa, also check how the dot operator comes into play"
   ]
  },
  {
   "cell_type": "code",
   "execution_count": 60,
   "metadata": {},
   "outputs": [],
   "source": [
    "# what  i see here is a strong usecases present for do keyword, i will think again about those use cases"
   ]
  },
  {
   "cell_type": "markdown",
   "metadata": {},
   "source": [
    "# purr package contains map, map2, pmap, modify, modify_if, map_df, map_dbl, map_chr etc\n",
    "<a href = \"3-Programming-basics.ipynb\" target = new>Example codes</a>"
   ]
  },
  {
   "cell_type": "markdown",
   "metadata": {},
   "source": [
    "`A particularly useful purrr function for interacting with the rest of the tidyverse is map_df, which always returns a tibble data frame. However, the function being called needs to return a vector or a list with names`"
   ]
  },
  {
   "cell_type": "code",
   "execution_count": 61,
   "metadata": {},
   "outputs": [],
   "source": [
    "compute_s_n <- function(n){\n",
    "  x <- 1:n\n",
    "  tibble(sum = sum(x))\n",
    "}\n",
    "n <- 1:25"
   ]
  },
  {
   "cell_type": "code",
   "execution_count": 66,
   "metadata": {},
   "outputs": [
    {
     "data": {
      "text/html": [
       "<table>\n",
       "<caption>A tibble: 25 × 1</caption>\n",
       "<thead>\n",
       "\t<tr><th scope=col>sum</th></tr>\n",
       "\t<tr><th scope=col>&lt;int&gt;</th></tr>\n",
       "</thead>\n",
       "<tbody>\n",
       "\t<tr><td>  1</td></tr>\n",
       "\t<tr><td>  3</td></tr>\n",
       "\t<tr><td>  6</td></tr>\n",
       "\t<tr><td> 10</td></tr>\n",
       "\t<tr><td> 15</td></tr>\n",
       "\t<tr><td> 21</td></tr>\n",
       "\t<tr><td> 28</td></tr>\n",
       "\t<tr><td> 36</td></tr>\n",
       "\t<tr><td> 45</td></tr>\n",
       "\t<tr><td> 55</td></tr>\n",
       "\t<tr><td> 66</td></tr>\n",
       "\t<tr><td> 78</td></tr>\n",
       "\t<tr><td> 91</td></tr>\n",
       "\t<tr><td>105</td></tr>\n",
       "\t<tr><td>120</td></tr>\n",
       "\t<tr><td>136</td></tr>\n",
       "\t<tr><td>153</td></tr>\n",
       "\t<tr><td>171</td></tr>\n",
       "\t<tr><td>190</td></tr>\n",
       "\t<tr><td>210</td></tr>\n",
       "\t<tr><td>231</td></tr>\n",
       "\t<tr><td>253</td></tr>\n",
       "\t<tr><td>276</td></tr>\n",
       "\t<tr><td>300</td></tr>\n",
       "\t<tr><td>325</td></tr>\n",
       "</tbody>\n",
       "</table>\n"
      ],
      "text/latex": [
       "A tibble: 25 × 1\n",
       "\\begin{tabular}{r|l}\n",
       " sum\\\\\n",
       " <int>\\\\\n",
       "\\hline\n",
       "\t   1\\\\\n",
       "\t   3\\\\\n",
       "\t   6\\\\\n",
       "\t  10\\\\\n",
       "\t  15\\\\\n",
       "\t  21\\\\\n",
       "\t  28\\\\\n",
       "\t  36\\\\\n",
       "\t  45\\\\\n",
       "\t  55\\\\\n",
       "\t  66\\\\\n",
       "\t  78\\\\\n",
       "\t  91\\\\\n",
       "\t 105\\\\\n",
       "\t 120\\\\\n",
       "\t 136\\\\\n",
       "\t 153\\\\\n",
       "\t 171\\\\\n",
       "\t 190\\\\\n",
       "\t 210\\\\\n",
       "\t 231\\\\\n",
       "\t 253\\\\\n",
       "\t 276\\\\\n",
       "\t 300\\\\\n",
       "\t 325\\\\\n",
       "\\end{tabular}\n"
      ],
      "text/markdown": [
       "\n",
       "A tibble: 25 × 1\n",
       "\n",
       "| sum &lt;int&gt; |\n",
       "|---|\n",
       "|   1 |\n",
       "|   3 |\n",
       "|   6 |\n",
       "|  10 |\n",
       "|  15 |\n",
       "|  21 |\n",
       "|  28 |\n",
       "|  36 |\n",
       "|  45 |\n",
       "|  55 |\n",
       "|  66 |\n",
       "|  78 |\n",
       "|  91 |\n",
       "| 105 |\n",
       "| 120 |\n",
       "| 136 |\n",
       "| 153 |\n",
       "| 171 |\n",
       "| 190 |\n",
       "| 210 |\n",
       "| 231 |\n",
       "| 253 |\n",
       "| 276 |\n",
       "| 300 |\n",
       "| 325 |\n",
       "\n"
      ],
      "text/plain": [
       "   sum\n",
       "1    1\n",
       "2    3\n",
       "3    6\n",
       "4   10\n",
       "5   15\n",
       "6   21\n",
       "7   28\n",
       "8   36\n",
       "9   45\n",
       "10  55\n",
       "11  66\n",
       "12  78\n",
       "13  91\n",
       "14 105\n",
       "15 120\n",
       "16 136\n",
       "17 153\n",
       "18 171\n",
       "19 190\n",
       "20 210\n",
       "21 231\n",
       "22 253\n",
       "23 276\n",
       "24 300\n",
       "25 325"
      ]
     },
     "metadata": {},
     "output_type": "display_data"
    }
   ],
   "source": [
    "s_n <- map_df(n, compute_s_n)\n",
    "# this same as this\n",
    "map_df(n, ~{\n",
    "    tibble(sum=sum(1:.x))\n",
    "})\n"
   ]
  },
  {
   "cell_type": "code",
   "execution_count": 63,
   "metadata": {},
   "outputs": [
    {
     "data": {
      "text/html": [
       "<table>\n",
       "<caption>A tibble: 25 × 1</caption>\n",
       "<thead>\n",
       "\t<tr><th scope=col>sum</th></tr>\n",
       "\t<tr><th scope=col>&lt;int&gt;</th></tr>\n",
       "</thead>\n",
       "<tbody>\n",
       "\t<tr><td>  1</td></tr>\n",
       "\t<tr><td>  3</td></tr>\n",
       "\t<tr><td>  6</td></tr>\n",
       "\t<tr><td> 10</td></tr>\n",
       "\t<tr><td> 15</td></tr>\n",
       "\t<tr><td> 21</td></tr>\n",
       "\t<tr><td> 28</td></tr>\n",
       "\t<tr><td> 36</td></tr>\n",
       "\t<tr><td> 45</td></tr>\n",
       "\t<tr><td> 55</td></tr>\n",
       "\t<tr><td> 66</td></tr>\n",
       "\t<tr><td> 78</td></tr>\n",
       "\t<tr><td> 91</td></tr>\n",
       "\t<tr><td>105</td></tr>\n",
       "\t<tr><td>120</td></tr>\n",
       "\t<tr><td>136</td></tr>\n",
       "\t<tr><td>153</td></tr>\n",
       "\t<tr><td>171</td></tr>\n",
       "\t<tr><td>190</td></tr>\n",
       "\t<tr><td>210</td></tr>\n",
       "\t<tr><td>231</td></tr>\n",
       "\t<tr><td>253</td></tr>\n",
       "\t<tr><td>276</td></tr>\n",
       "\t<tr><td>300</td></tr>\n",
       "\t<tr><td>325</td></tr>\n",
       "</tbody>\n",
       "</table>\n"
      ],
      "text/latex": [
       "A tibble: 25 × 1\n",
       "\\begin{tabular}{r|l}\n",
       " sum\\\\\n",
       " <int>\\\\\n",
       "\\hline\n",
       "\t   1\\\\\n",
       "\t   3\\\\\n",
       "\t   6\\\\\n",
       "\t  10\\\\\n",
       "\t  15\\\\\n",
       "\t  21\\\\\n",
       "\t  28\\\\\n",
       "\t  36\\\\\n",
       "\t  45\\\\\n",
       "\t  55\\\\\n",
       "\t  66\\\\\n",
       "\t  78\\\\\n",
       "\t  91\\\\\n",
       "\t 105\\\\\n",
       "\t 120\\\\\n",
       "\t 136\\\\\n",
       "\t 153\\\\\n",
       "\t 171\\\\\n",
       "\t 190\\\\\n",
       "\t 210\\\\\n",
       "\t 231\\\\\n",
       "\t 253\\\\\n",
       "\t 276\\\\\n",
       "\t 300\\\\\n",
       "\t 325\\\\\n",
       "\\end{tabular}\n"
      ],
      "text/markdown": [
       "\n",
       "A tibble: 25 × 1\n",
       "\n",
       "| sum &lt;int&gt; |\n",
       "|---|\n",
       "|   1 |\n",
       "|   3 |\n",
       "|   6 |\n",
       "|  10 |\n",
       "|  15 |\n",
       "|  21 |\n",
       "|  28 |\n",
       "|  36 |\n",
       "|  45 |\n",
       "|  55 |\n",
       "|  66 |\n",
       "|  78 |\n",
       "|  91 |\n",
       "| 105 |\n",
       "| 120 |\n",
       "| 136 |\n",
       "| 153 |\n",
       "| 171 |\n",
       "| 190 |\n",
       "| 210 |\n",
       "| 231 |\n",
       "| 253 |\n",
       "| 276 |\n",
       "| 300 |\n",
       "| 325 |\n",
       "\n"
      ],
      "text/plain": [
       "   sum\n",
       "1    1\n",
       "2    3\n",
       "3    6\n",
       "4   10\n",
       "5   15\n",
       "6   21\n",
       "7   28\n",
       "8   36\n",
       "9   45\n",
       "10  55\n",
       "11  66\n",
       "12  78\n",
       "13  91\n",
       "14 105\n",
       "15 120\n",
       "16 136\n",
       "17 153\n",
       "18 171\n",
       "19 190\n",
       "20 210\n",
       "21 231\n",
       "22 253\n",
       "23 276\n",
       "24 300\n",
       "25 325"
      ]
     },
     "metadata": {},
     "output_type": "display_data"
    }
   ],
   "source": [
    "s_n"
   ]
  },
  {
   "cell_type": "code",
   "execution_count": 65,
   "metadata": {},
   "outputs": [
    {
     "data": {
      "text/html": [
       "<ol>\n",
       "\t<li>1</li>\n",
       "\t<li>3</li>\n",
       "\t<li>6</li>\n",
       "\t<li>10</li>\n",
       "\t<li>15</li>\n",
       "\t<li>21</li>\n",
       "\t<li>28</li>\n",
       "\t<li>36</li>\n",
       "\t<li>45</li>\n",
       "\t<li>55</li>\n",
       "\t<li>66</li>\n",
       "\t<li>78</li>\n",
       "\t<li>91</li>\n",
       "\t<li>105</li>\n",
       "\t<li>120</li>\n",
       "\t<li>136</li>\n",
       "\t<li>153</li>\n",
       "\t<li>171</li>\n",
       "\t<li>190</li>\n",
       "\t<li>210</li>\n",
       "\t<li>231</li>\n",
       "\t<li>253</li>\n",
       "\t<li>276</li>\n",
       "\t<li>300</li>\n",
       "\t<li>325</li>\n",
       "</ol>\n"
      ],
      "text/latex": [
       "\\begin{enumerate}\n",
       "\\item 1\n",
       "\\item 3\n",
       "\\item 6\n",
       "\\item 10\n",
       "\\item 15\n",
       "\\item 21\n",
       "\\item 28\n",
       "\\item 36\n",
       "\\item 45\n",
       "\\item 55\n",
       "\\item 66\n",
       "\\item 78\n",
       "\\item 91\n",
       "\\item 105\n",
       "\\item 120\n",
       "\\item 136\n",
       "\\item 153\n",
       "\\item 171\n",
       "\\item 190\n",
       "\\item 210\n",
       "\\item 231\n",
       "\\item 253\n",
       "\\item 276\n",
       "\\item 300\n",
       "\\item 325\n",
       "\\end{enumerate}\n"
      ],
      "text/markdown": [
       "1. 1\n",
       "2. 3\n",
       "3. 6\n",
       "4. 10\n",
       "5. 15\n",
       "6. 21\n",
       "7. 28\n",
       "8. 36\n",
       "9. 45\n",
       "10. 55\n",
       "11. 66\n",
       "12. 78\n",
       "13. 91\n",
       "14. 105\n",
       "15. 120\n",
       "16. 136\n",
       "17. 153\n",
       "18. 171\n",
       "19. 190\n",
       "20. 210\n",
       "21. 231\n",
       "22. 253\n",
       "23. 276\n",
       "24. 300\n",
       "25. 325\n",
       "\n",
       "\n"
      ],
      "text/plain": [
       "[[1]]\n",
       "[1] 1\n",
       "\n",
       "[[2]]\n",
       "[1] 3\n",
       "\n",
       "[[3]]\n",
       "[1] 6\n",
       "\n",
       "[[4]]\n",
       "[1] 10\n",
       "\n",
       "[[5]]\n",
       "[1] 15\n",
       "\n",
       "[[6]]\n",
       "[1] 21\n",
       "\n",
       "[[7]]\n",
       "[1] 28\n",
       "\n",
       "[[8]]\n",
       "[1] 36\n",
       "\n",
       "[[9]]\n",
       "[1] 45\n",
       "\n",
       "[[10]]\n",
       "[1] 55\n",
       "\n",
       "[[11]]\n",
       "[1] 66\n",
       "\n",
       "[[12]]\n",
       "[1] 78\n",
       "\n",
       "[[13]]\n",
       "[1] 91\n",
       "\n",
       "[[14]]\n",
       "[1] 105\n",
       "\n",
       "[[15]]\n",
       "[1] 120\n",
       "\n",
       "[[16]]\n",
       "[1] 136\n",
       "\n",
       "[[17]]\n",
       "[1] 153\n",
       "\n",
       "[[18]]\n",
       "[1] 171\n",
       "\n",
       "[[19]]\n",
       "[1] 190\n",
       "\n",
       "[[20]]\n",
       "[1] 210\n",
       "\n",
       "[[21]]\n",
       "[1] 231\n",
       "\n",
       "[[22]]\n",
       "[1] 253\n",
       "\n",
       "[[23]]\n",
       "[1] 276\n",
       "\n",
       "[[24]]\n",
       "[1] 300\n",
       "\n",
       "[[25]]\n",
       "[1] 325\n"
      ]
     },
     "metadata": {},
     "output_type": "display_data"
    }
   ],
   "source": [
    "map(n, ~{\n",
    "    sum(1:.x)\n",
    "})"
   ]
  },
  {
   "cell_type": "markdown",
   "metadata": {},
   "source": [
    "### Tidyverse conditionals\n"
   ]
  },
  {
   "cell_type": "code",
   "execution_count": null,
   "metadata": {},
   "outputs": [],
   "source": [
    "#one example is using ifelse()"
   ]
  },
  {
   "cell_type": "markdown",
   "metadata": {},
   "source": [
    "`case_when function is useful for vectorizing conditional statements. It is similar to ifelse but can output any number of values, as opposed to just TRUE or FALSE`"
   ]
  },
  {
   "cell_type": "code",
   "execution_count": 67,
   "metadata": {},
   "outputs": [
    {
     "data": {
      "text/html": [
       "<ol class=list-inline>\n",
       "\t<li>'Negative'</li>\n",
       "\t<li>'Negative'</li>\n",
       "\t<li>'Zero'</li>\n",
       "\t<li>'Positive'</li>\n",
       "\t<li>'Positive'</li>\n",
       "</ol>\n"
      ],
      "text/latex": [
       "\\begin{enumerate*}\n",
       "\\item 'Negative'\n",
       "\\item 'Negative'\n",
       "\\item 'Zero'\n",
       "\\item 'Positive'\n",
       "\\item 'Positive'\n",
       "\\end{enumerate*}\n"
      ],
      "text/markdown": [
       "1. 'Negative'\n",
       "2. 'Negative'\n",
       "3. 'Zero'\n",
       "4. 'Positive'\n",
       "5. 'Positive'\n",
       "\n",
       "\n"
      ],
      "text/plain": [
       "[1] \"Negative\" \"Negative\" \"Zero\"     \"Positive\" \"Positive\""
      ]
     },
     "metadata": {},
     "output_type": "display_data"
    }
   ],
   "source": [
    "x <- c(-2, -1, 0, 1, 2)\n",
    "case_when(x < 0 ~ \"Negative\", \n",
    "          x > 0 ~ \"Positive\", \n",
    "          TRUE  ~ \"Zero\")"
   ]
  },
  {
   "cell_type": "code",
   "execution_count": 70,
   "metadata": {},
   "outputs": [
    {
     "data": {
      "text/html": [
       "<ol class=list-inline>\n",
       "\t<li>'Negative'</li>\n",
       "\t<li>'Negative'</li>\n",
       "\t<li>'Positive'</li>\n",
       "\t<li>'Positive'</li>\n",
       "\t<li>'Positive'</li>\n",
       "</ol>\n"
      ],
      "text/latex": [
       "\\begin{enumerate*}\n",
       "\\item 'Negative'\n",
       "\\item 'Negative'\n",
       "\\item 'Positive'\n",
       "\\item 'Positive'\n",
       "\\item 'Positive'\n",
       "\\end{enumerate*}\n"
      ],
      "text/markdown": [
       "1. 'Negative'\n",
       "2. 'Negative'\n",
       "3. 'Positive'\n",
       "4. 'Positive'\n",
       "5. 'Positive'\n",
       "\n",
       "\n"
      ],
      "text/plain": [
       "[1] \"Negative\" \"Negative\" \"Positive\" \"Positive\" \"Positive\""
      ]
     },
     "metadata": {},
     "output_type": "display_data"
    }
   ],
   "source": [
    "ifelse(x<0, 'Negative', 'Positive')# not correct, hence use case_when"
   ]
  },
  {
   "cell_type": "code",
   "execution_count": 72,
   "metadata": {},
   "outputs": [],
   "source": [
    "# case when similar to switch, but good for vectorised inputs or dataframes"
   ]
  },
  {
   "cell_type": "markdown",
   "metadata": {},
   "source": [
    "# A common use for this case_when is to define categorical variables based on existing variables"
   ]
  },
  {
   "cell_type": "code",
   "execution_count": 76,
   "metadata": {},
   "outputs": [
    {
     "data": {
      "text/html": [
       "<table>\n",
       "<caption>A tibble: 4 × 2</caption>\n",
       "<thead>\n",
       "\t<tr><th scope=col>group</th><th scope=col>rate</th></tr>\n",
       "\t<tr><th scope=col>&lt;chr&gt;</th><th scope=col>&lt;dbl&gt;</th></tr>\n",
       "</thead>\n",
       "<tbody>\n",
       "\t<tr><td>New England</td><td>1.723796</td></tr>\n",
       "\t<tr><td>Other      </td><td>2.708144</td></tr>\n",
       "\t<tr><td>South      </td><td>3.626558</td></tr>\n",
       "\t<tr><td>West Coast </td><td>2.899001</td></tr>\n",
       "</tbody>\n",
       "</table>\n"
      ],
      "text/latex": [
       "A tibble: 4 × 2\n",
       "\\begin{tabular}{r|ll}\n",
       " group & rate\\\\\n",
       " <chr> & <dbl>\\\\\n",
       "\\hline\n",
       "\t New England & 1.723796\\\\\n",
       "\t Other       & 2.708144\\\\\n",
       "\t South       & 3.626558\\\\\n",
       "\t West Coast  & 2.899001\\\\\n",
       "\\end{tabular}\n"
      ],
      "text/markdown": [
       "\n",
       "A tibble: 4 × 2\n",
       "\n",
       "| group &lt;chr&gt; | rate &lt;dbl&gt; |\n",
       "|---|---|\n",
       "| New England | 1.723796 |\n",
       "| Other       | 2.708144 |\n",
       "| South       | 3.626558 |\n",
       "| West Coast  | 2.899001 |\n",
       "\n"
      ],
      "text/plain": [
       "  group       rate    \n",
       "1 New England 1.723796\n",
       "2 Other       2.708144\n",
       "3 South       3.626558\n",
       "4 West Coast  2.899001"
      ]
     },
     "metadata": {},
     "output_type": "display_data"
    }
   ],
   "source": [
    "# compare the murder rates in four groups of states: New England, West Coast, South, and other.\n",
    "murders %>% \n",
    "  mutate(group = case_when(\n",
    "    abb %in% c(\"ME\", \"NH\", \"VT\", \"MA\", \"RI\", \"CT\") ~ \"New England\",\n",
    "    abb %in% c(\"WA\", \"OR\", \"CA\") ~ \"West Coast\",\n",
    "    region == \"South\" ~ \"South\",\n",
    "    TRUE ~ \"Other\")) %>%\n",
    "  group_by(group) %>%\n",
    "  summarize(rate = sum(total) / sum(population) * 10^5) "
   ]
  },
  {
   "cell_type": "code",
   "execution_count": 77,
   "metadata": {},
   "outputs": [],
   "source": [
    "# between\n",
    "# A common operation in data analysis is to determine if a value falls inside an interval\n"
   ]
  },
  {
   "cell_type": "code",
   "execution_count": 81,
   "metadata": {},
   "outputs": [
    {
     "ename": "ERROR",
     "evalue": "Error in between(x, a, b): object 'a' not found\n",
     "output_type": "error",
     "traceback": [
      "Error in between(x, a, b): object 'a' not found\nTraceback:\n",
      "1. between(x, a, b)"
     ]
    }
   ],
   "source": [
    "between(x, a, b) # === x >= a & x <= b, goot for tidyverse approach"
   ]
  },
  {
   "cell_type": "code",
   "execution_count": 82,
   "metadata": {},
   "outputs": [
    {
     "data": {
      "text/html": [
       "<table>\n",
       "<caption>A data.frame: 6 × 7</caption>\n",
       "<thead>\n",
       "\t<tr><th scope=col>state</th><th scope=col>abb</th><th scope=col>region</th><th scope=col>population</th><th scope=col>total</th><th scope=col>rate</th><th scope=col>rank</th></tr>\n",
       "\t<tr><th scope=col>&lt;chr&gt;</th><th scope=col>&lt;chr&gt;</th><th scope=col>&lt;fct&gt;</th><th scope=col>&lt;dbl&gt;</th><th scope=col>&lt;dbl&gt;</th><th scope=col>&lt;dbl&gt;</th><th scope=col>&lt;dbl&gt;</th></tr>\n",
       "</thead>\n",
       "<tbody>\n",
       "\t<tr><td>Alabama   </td><td>AL</td><td>South</td><td> 4779736</td><td> 135</td><td>2.824424</td><td>23</td></tr>\n",
       "\t<tr><td>Alaska    </td><td>AK</td><td>West </td><td>  710231</td><td>  19</td><td>2.675186</td><td>27</td></tr>\n",
       "\t<tr><td>Arizona   </td><td>AZ</td><td>West </td><td> 6392017</td><td> 232</td><td>3.629527</td><td>10</td></tr>\n",
       "\t<tr><td>Arkansas  </td><td>AR</td><td>South</td><td> 2915918</td><td>  93</td><td>3.189390</td><td>17</td></tr>\n",
       "\t<tr><td>California</td><td>CA</td><td>West </td><td>37253956</td><td>1257</td><td>3.374138</td><td>14</td></tr>\n",
       "\t<tr><td>Colorado  </td><td>CO</td><td>West </td><td> 5029196</td><td>  65</td><td>1.292453</td><td>38</td></tr>\n",
       "</tbody>\n",
       "</table>\n"
      ],
      "text/latex": [
       "A data.frame: 6 × 7\n",
       "\\begin{tabular}{r|lllllll}\n",
       " state & abb & region & population & total & rate & rank\\\\\n",
       " <chr> & <chr> & <fct> & <dbl> & <dbl> & <dbl> & <dbl>\\\\\n",
       "\\hline\n",
       "\t Alabama    & AL & South &  4779736 &  135 & 2.824424 & 23\\\\\n",
       "\t Alaska     & AK & West  &   710231 &   19 & 2.675186 & 27\\\\\n",
       "\t Arizona    & AZ & West  &  6392017 &  232 & 3.629527 & 10\\\\\n",
       "\t Arkansas   & AR & South &  2915918 &   93 & 3.189390 & 17\\\\\n",
       "\t California & CA & West  & 37253956 & 1257 & 3.374138 & 14\\\\\n",
       "\t Colorado   & CO & West  &  5029196 &   65 & 1.292453 & 38\\\\\n",
       "\\end{tabular}\n"
      ],
      "text/markdown": [
       "\n",
       "A data.frame: 6 × 7\n",
       "\n",
       "| state &lt;chr&gt; | abb &lt;chr&gt; | region &lt;fct&gt; | population &lt;dbl&gt; | total &lt;dbl&gt; | rate &lt;dbl&gt; | rank &lt;dbl&gt; |\n",
       "|---|---|---|---|---|---|---|\n",
       "| Alabama    | AL | South |  4779736 |  135 | 2.824424 | 23 |\n",
       "| Alaska     | AK | West  |   710231 |   19 | 2.675186 | 27 |\n",
       "| Arizona    | AZ | West  |  6392017 |  232 | 3.629527 | 10 |\n",
       "| Arkansas   | AR | South |  2915918 |   93 | 3.189390 | 17 |\n",
       "| California | CA | West  | 37253956 | 1257 | 3.374138 | 14 |\n",
       "| Colorado   | CO | West  |  5029196 |   65 | 1.292453 | 38 |\n",
       "\n"
      ],
      "text/plain": [
       "  state      abb region population total rate     rank\n",
       "1 Alabama    AL  South   4779736    135  2.824424 23  \n",
       "2 Alaska     AK  West     710231     19  2.675186 27  \n",
       "3 Arizona    AZ  West    6392017    232  3.629527 10  \n",
       "4 Arkansas   AR  South   2915918     93  3.189390 17  \n",
       "5 California CA  West   37253956   1257  3.374138 14  \n",
       "6 Colorado   CO  West    5029196     65  1.292453 38  "
      ]
     },
     "metadata": {},
     "output_type": "display_data"
    }
   ],
   "source": [
    "murders %>% head"
   ]
  },
  {
   "cell_type": "code",
   "execution_count": 89,
   "metadata": {},
   "outputs": [
    {
     "data": {
      "text/html": [
       "<table>\n",
       "<caption>A data.frame: 6 × 7</caption>\n",
       "<thead>\n",
       "\t<tr><th scope=col>state</th><th scope=col>abb</th><th scope=col>region</th><th scope=col>population</th><th scope=col>total</th><th scope=col>rate</th><th scope=col>rank</th></tr>\n",
       "\t<tr><th scope=col>&lt;chr&gt;</th><th scope=col>&lt;chr&gt;</th><th scope=col>&lt;fct&gt;</th><th scope=col>&lt;dbl&gt;</th><th scope=col>&lt;dbl&gt;</th><th scope=col>&lt;dbl&gt;</th><th scope=col>&lt;dbl&gt;</th></tr>\n",
       "</thead>\n",
       "<tbody>\n",
       "\t<tr><td>Alabama   </td><td>AL</td><td>South</td><td> 4779736</td><td> 135</td><td>2.824424</td><td>23</td></tr>\n",
       "\t<tr><td>Alaska    </td><td>AK</td><td>West </td><td>  710231</td><td>  19</td><td>2.675186</td><td>27</td></tr>\n",
       "\t<tr><td>Arizona   </td><td>AZ</td><td>West </td><td> 6392017</td><td> 232</td><td>3.629527</td><td>10</td></tr>\n",
       "\t<tr><td>Arkansas  </td><td>AR</td><td>South</td><td> 2915918</td><td>  93</td><td>3.189390</td><td>17</td></tr>\n",
       "\t<tr><td>California</td><td>CA</td><td>West </td><td>37253956</td><td>1257</td><td>3.374138</td><td>14</td></tr>\n",
       "\t<tr><td>Colorado  </td><td>CO</td><td>West </td><td> 5029196</td><td>  65</td><td>1.292453</td><td>38</td></tr>\n",
       "</tbody>\n",
       "</table>\n"
      ],
      "text/latex": [
       "A data.frame: 6 × 7\n",
       "\\begin{tabular}{r|lllllll}\n",
       " state & abb & region & population & total & rate & rank\\\\\n",
       " <chr> & <chr> & <fct> & <dbl> & <dbl> & <dbl> & <dbl>\\\\\n",
       "\\hline\n",
       "\t Alabama    & AL & South &  4779736 &  135 & 2.824424 & 23\\\\\n",
       "\t Alaska     & AK & West  &   710231 &   19 & 2.675186 & 27\\\\\n",
       "\t Arizona    & AZ & West  &  6392017 &  232 & 3.629527 & 10\\\\\n",
       "\t Arkansas   & AR & South &  2915918 &   93 & 3.189390 & 17\\\\\n",
       "\t California & CA & West  & 37253956 & 1257 & 3.374138 & 14\\\\\n",
       "\t Colorado   & CO & West  &  5029196 &   65 & 1.292453 & 38\\\\\n",
       "\\end{tabular}\n"
      ],
      "text/markdown": [
       "\n",
       "A data.frame: 6 × 7\n",
       "\n",
       "| state &lt;chr&gt; | abb &lt;chr&gt; | region &lt;fct&gt; | population &lt;dbl&gt; | total &lt;dbl&gt; | rate &lt;dbl&gt; | rank &lt;dbl&gt; |\n",
       "|---|---|---|---|---|---|---|\n",
       "| Alabama    | AL | South |  4779736 |  135 | 2.824424 | 23 |\n",
       "| Alaska     | AK | West  |   710231 |   19 | 2.675186 | 27 |\n",
       "| Arizona    | AZ | West  |  6392017 |  232 | 3.629527 | 10 |\n",
       "| Arkansas   | AR | South |  2915918 |   93 | 3.189390 | 17 |\n",
       "| California | CA | West  | 37253956 | 1257 | 3.374138 | 14 |\n",
       "| Colorado   | CO | West  |  5029196 |   65 | 1.292453 | 38 |\n",
       "\n"
      ],
      "text/plain": [
       "  state      abb region population total rate     rank\n",
       "1 Alabama    AL  South   4779736    135  2.824424 23  \n",
       "2 Alaska     AK  West     710231     19  2.675186 27  \n",
       "3 Arizona    AZ  West    6392017    232  3.629527 10  \n",
       "4 Arkansas   AR  South   2915918     93  3.189390 17  \n",
       "5 California CA  West   37253956   1257  3.374138 14  \n",
       "6 Colorado   CO  West    5029196     65  1.292453 38  "
      ]
     },
     "metadata": {},
     "output_type": "display_data"
    }
   ],
   "source": [
    "# check the rate between interval 1 - 4\n",
    "murders %>% filter(between(rate, 1, 4)) %>% head # here filter needs to be used"
   ]
  },
  {
   "cell_type": "code",
   "execution_count": 85,
   "metadata": {},
   "outputs": [
    {
     "data": {
      "text/html": [
       "<ol class=list-inline>\n",
       "\t<li>TRUE</li>\n",
       "\t<li>TRUE</li>\n",
       "\t<li>TRUE</li>\n",
       "\t<li>FALSE</li>\n",
       "\t<li>FALSE</li>\n",
       "\t<li>FALSE</li>\n",
       "</ol>\n"
      ],
      "text/latex": [
       "\\begin{enumerate*}\n",
       "\\item TRUE\n",
       "\\item TRUE\n",
       "\\item TRUE\n",
       "\\item FALSE\n",
       "\\item FALSE\n",
       "\\item FALSE\n",
       "\\end{enumerate*}\n"
      ],
      "text/markdown": [
       "1. TRUE\n",
       "2. TRUE\n",
       "3. TRUE\n",
       "4. FALSE\n",
       "5. FALSE\n",
       "6. FALSE\n",
       "\n",
       "\n"
      ],
      "text/plain": [
       "[1]  TRUE  TRUE  TRUE FALSE FALSE FALSE"
      ]
     },
     "metadata": {},
     "output_type": "display_data"
    }
   ],
   "source": [
    "x <- c(1,2,3,4,5,6)\n",
    "between(x, 1, 3)"
   ]
  },
  {
   "cell_type": "code",
   "execution_count": null,
   "metadata": {},
   "outputs": [],
   "source": []
  }
 ],
 "metadata": {
  "kernelspec": {
   "display_name": "R",
   "language": "R",
   "name": "ir"
  },
  "language_info": {
   "codemirror_mode": "r",
   "file_extension": ".r",
   "mimetype": "text/x-r-source",
   "name": "R",
   "pygments_lexer": "r",
   "version": "3.6.1"
  }
 },
 "nbformat": 4,
 "nbformat_minor": 2
}
